{
 "cells": [
  {
   "cell_type": "markdown",
   "id": "a01ccae4",
   "metadata": {},
   "source": [
    "# Dealing with Date time features"
   ]
  },
  {
   "cell_type": "code",
   "execution_count": 1,
   "id": "6b686c32",
   "metadata": {},
   "outputs": [],
   "source": [
    "import numpy as np\n",
    "import pandas as pd\n",
    "\n",
    "import seaborn as sns\n",
    "\n",
    "from datetime import datetime\n",
    "import copy"
   ]
  },
  {
   "cell_type": "code",
   "execution_count": 2,
   "id": "751fba3f",
   "metadata": {},
   "outputs": [],
   "source": [
    "df = pd.read_csv(\"../dataset/cat_data.csv\")"
   ]
  },
  {
   "cell_type": "code",
   "execution_count": 3,
   "id": "4addadfb",
   "metadata": {},
   "outputs": [
    {
     "data": {
      "text/plain": [
       "(45593, 20)"
      ]
     },
     "execution_count": 3,
     "metadata": {},
     "output_type": "execute_result"
    }
   ],
   "source": [
    "df.shape"
   ]
  },
  {
   "cell_type": "code",
   "execution_count": 4,
   "id": "3340981a",
   "metadata": {},
   "outputs": [
    {
     "name": "stdout",
     "output_type": "stream",
     "text": [
      "<class 'pandas.core.frame.DataFrame'>\n",
      "RangeIndex: 45593 entries, 0 to 45592\n",
      "Data columns (total 20 columns):\n",
      " #   Column                       Non-Null Count  Dtype  \n",
      "---  ------                       --------------  -----  \n",
      " 0   Delivery_person_ID           45593 non-null  object \n",
      " 1   Delivery_person_Age          43739 non-null  float64\n",
      " 2   Delivery_person_Ratings      43685 non-null  float64\n",
      " 3   Restaurant_latitude          45593 non-null  float64\n",
      " 4   Restaurant_longitude         45593 non-null  float64\n",
      " 5   Delivery_location_latitude   45593 non-null  float64\n",
      " 6   Delivery_location_longitude  45593 non-null  float64\n",
      " 7   Order_Date                   45593 non-null  object \n",
      " 8   Time_Orderd                  45593 non-null  object \n",
      " 9   Time_Order_picked            45593 non-null  object \n",
      " 10  Weather                      45593 non-null  object \n",
      " 11  Road_traffic_density         45593 non-null  object \n",
      " 12  Vehicle_condition            45593 non-null  int64  \n",
      " 13  Type_of_order                45593 non-null  object \n",
      " 14  Type_of_vehicle              45593 non-null  object \n",
      " 15  multiple_deliveries          44600 non-null  float64\n",
      " 16  Festival                     45593 non-null  object \n",
      " 17  City                         45593 non-null  object \n",
      " 18  Time_taken                   45593 non-null  float64\n",
      " 19  kfold                        45593 non-null  int64  \n",
      "dtypes: float64(8), int64(2), object(10)\n",
      "memory usage: 7.0+ MB\n"
     ]
    }
   ],
   "source": [
    "df.info()"
   ]
  },
  {
   "cell_type": "markdown",
   "id": "4556c04c",
   "metadata": {},
   "source": [
    "- Creating feature by aggregation of other features with time.\n",
    "- Experimenting with tsfresh."
   ]
  },
  {
   "cell_type": "code",
   "execution_count": 5,
   "id": "79679a52",
   "metadata": {},
   "outputs": [],
   "source": [
    "def compute_date_time(df):\n",
    "    \"Calculates the difference between order pickup time and time ordered in minutes\"\n",
    "    df = copy.deepcopy(df)\n",
    "    df[\"Time_Orderd\"] = df[\"Time_Orderd\"].apply(lambda x: datetime.strptime(x, \"%H:%M\") if x != \"NONE\" else x)\n",
    "    df[\"Time_Order_picked\"] = df[\"Time_Order_picked\"].apply(lambda x: datetime.strptime(x, \"%H:%M\"))\n",
    "    \n",
    "    df.loc[:, \"pickup_delay\"] = -1\n",
    "    \n",
    "    for idx in range(len(df)):\n",
    "        time_ordered = df.loc[idx, \"Time_Orderd\"]\n",
    "        if time_ordered == \"NONE\":\n",
    "            df.loc[idx, \"pickup_delay\"] = None\n",
    "        else:\n",
    "            time_order_picked = df.loc[idx, \"Time_Order_picked\"]\n",
    "            delay_sec = (time_order_picked - time_ordered).seconds\n",
    "            df.loc[idx, \"pickup_delay\"] = delay_sec/60\n",
    "    \n",
    "    df.loc[:, \"order_hour\"] = df[\"Time_Order_picked\"].apply(lambda x: x.hour)\n",
    "    df.loc[:, \"order_minute\"] = df[\"Time_Orderd\"].apply(lambda x: None if type(x)==str else x.minute)\n",
    "    df.loc[:, \"order_minute_picked\"] = df[\"Time_Order_picked\"].apply(lambda x: x.minute)\n",
    "    \n",
    "    df = df.drop([\"Time_Orderd\", \"Time_Order_picked\"], axis=1)\n",
    "    \n",
    "    return df"
   ]
  },
  {
   "cell_type": "code",
   "execution_count": 6,
   "id": "a7657fe0",
   "metadata": {},
   "outputs": [],
   "source": [
    "df2 = compute_date_time(df)"
   ]
  },
  {
   "cell_type": "code",
   "execution_count": 7,
   "id": "b1f37ebc",
   "metadata": {},
   "outputs": [
    {
     "data": {
      "text/plain": [
       "(45593, 22)"
      ]
     },
     "execution_count": 7,
     "metadata": {},
     "output_type": "execute_result"
    }
   ],
   "source": [
    "df2.shape"
   ]
  },
  {
   "cell_type": "code",
   "execution_count": 8,
   "id": "46404460",
   "metadata": {},
   "outputs": [
    {
     "data": {
      "text/html": [
       "<div>\n",
       "<style scoped>\n",
       "    .dataframe tbody tr th:only-of-type {\n",
       "        vertical-align: middle;\n",
       "    }\n",
       "\n",
       "    .dataframe tbody tr th {\n",
       "        vertical-align: top;\n",
       "    }\n",
       "\n",
       "    .dataframe thead th {\n",
       "        text-align: right;\n",
       "    }\n",
       "</style>\n",
       "<table border=\"1\" class=\"dataframe\">\n",
       "  <thead>\n",
       "    <tr style=\"text-align: right;\">\n",
       "      <th></th>\n",
       "      <th>Delivery_person_ID</th>\n",
       "      <th>Delivery_person_Age</th>\n",
       "      <th>Delivery_person_Ratings</th>\n",
       "      <th>Restaurant_latitude</th>\n",
       "      <th>Restaurant_longitude</th>\n",
       "      <th>Delivery_location_latitude</th>\n",
       "      <th>Delivery_location_longitude</th>\n",
       "      <th>Order_Date</th>\n",
       "      <th>Weather</th>\n",
       "      <th>Road_traffic_density</th>\n",
       "      <th>...</th>\n",
       "      <th>Type_of_vehicle</th>\n",
       "      <th>multiple_deliveries</th>\n",
       "      <th>Festival</th>\n",
       "      <th>City</th>\n",
       "      <th>Time_taken</th>\n",
       "      <th>kfold</th>\n",
       "      <th>pickup_delay</th>\n",
       "      <th>order_hour</th>\n",
       "      <th>order_minute</th>\n",
       "      <th>order_minute_picked</th>\n",
       "    </tr>\n",
       "  </thead>\n",
       "  <tbody>\n",
       "    <tr>\n",
       "      <th>0</th>\n",
       "      <td>MUMRES13DEL03</td>\n",
       "      <td>22.0</td>\n",
       "      <td>4.7</td>\n",
       "      <td>19.178321</td>\n",
       "      <td>72.834715</td>\n",
       "      <td>19.208321</td>\n",
       "      <td>72.864715</td>\n",
       "      <td>24-03-2022</td>\n",
       "      <td>Stormy</td>\n",
       "      <td>Medium</td>\n",
       "      <td>...</td>\n",
       "      <td>scooter</td>\n",
       "      <td>1.0</td>\n",
       "      <td>No</td>\n",
       "      <td>Metropolitian</td>\n",
       "      <td>24.0</td>\n",
       "      <td>0</td>\n",
       "      <td>10.0</td>\n",
       "      <td>18</td>\n",
       "      <td>35.0</td>\n",
       "      <td>45</td>\n",
       "    </tr>\n",
       "    <tr>\n",
       "      <th>1</th>\n",
       "      <td>LUDHRES01DEL02</td>\n",
       "      <td>21.0</td>\n",
       "      <td>4.9</td>\n",
       "      <td>30.873988</td>\n",
       "      <td>75.842739</td>\n",
       "      <td>31.003988</td>\n",
       "      <td>75.972739</td>\n",
       "      <td>16-02-2022</td>\n",
       "      <td>Cloudy</td>\n",
       "      <td>Jam</td>\n",
       "      <td>...</td>\n",
       "      <td>motorcycle</td>\n",
       "      <td>1.0</td>\n",
       "      <td>No</td>\n",
       "      <td>Metropolitian</td>\n",
       "      <td>38.0</td>\n",
       "      <td>0</td>\n",
       "      <td>15.0</td>\n",
       "      <td>22</td>\n",
       "      <td>50.0</td>\n",
       "      <td>5</td>\n",
       "    </tr>\n",
       "    <tr>\n",
       "      <th>2</th>\n",
       "      <td>MUMRES18DEL02</td>\n",
       "      <td>31.0</td>\n",
       "      <td>4.1</td>\n",
       "      <td>19.109300</td>\n",
       "      <td>72.825451</td>\n",
       "      <td>19.129300</td>\n",
       "      <td>72.845451</td>\n",
       "      <td>15-03-2022</td>\n",
       "      <td>Sandstorms</td>\n",
       "      <td>Low</td>\n",
       "      <td>...</td>\n",
       "      <td>motorcycle</td>\n",
       "      <td>2.0</td>\n",
       "      <td>No</td>\n",
       "      <td>Urban</td>\n",
       "      <td>32.0</td>\n",
       "      <td>0</td>\n",
       "      <td>5.0</td>\n",
       "      <td>9</td>\n",
       "      <td>45.0</td>\n",
       "      <td>50</td>\n",
       "    </tr>\n",
       "    <tr>\n",
       "      <th>3</th>\n",
       "      <td>INDORES15DEL01</td>\n",
       "      <td>35.0</td>\n",
       "      <td>4.9</td>\n",
       "      <td>22.760072</td>\n",
       "      <td>75.892574</td>\n",
       "      <td>22.830072</td>\n",
       "      <td>75.962574</td>\n",
       "      <td>06-03-2022</td>\n",
       "      <td>Fog</td>\n",
       "      <td>Jam</td>\n",
       "      <td>...</td>\n",
       "      <td>scooter</td>\n",
       "      <td>2.0</td>\n",
       "      <td>No</td>\n",
       "      <td>Metropolitian</td>\n",
       "      <td>35.0</td>\n",
       "      <td>0</td>\n",
       "      <td>10.0</td>\n",
       "      <td>20</td>\n",
       "      <td>35.0</td>\n",
       "      <td>45</td>\n",
       "    </tr>\n",
       "    <tr>\n",
       "      <th>4</th>\n",
       "      <td>DEHRES02DEL01</td>\n",
       "      <td>28.0</td>\n",
       "      <td>4.8</td>\n",
       "      <td>0.000000</td>\n",
       "      <td>0.000000</td>\n",
       "      <td>0.040000</td>\n",
       "      <td>0.040000</td>\n",
       "      <td>11-02-2022</td>\n",
       "      <td>Sunny</td>\n",
       "      <td>High</td>\n",
       "      <td>...</td>\n",
       "      <td>scooter</td>\n",
       "      <td>1.0</td>\n",
       "      <td>No</td>\n",
       "      <td>Urban</td>\n",
       "      <td>15.0</td>\n",
       "      <td>0</td>\n",
       "      <td>10.0</td>\n",
       "      <td>14</td>\n",
       "      <td>0.0</td>\n",
       "      <td>10</td>\n",
       "    </tr>\n",
       "  </tbody>\n",
       "</table>\n",
       "<p>5 rows × 22 columns</p>\n",
       "</div>"
      ],
      "text/plain": [
       "  Delivery_person_ID  Delivery_person_Age  Delivery_person_Ratings  \\\n",
       "0      MUMRES13DEL03                 22.0                      4.7   \n",
       "1     LUDHRES01DEL02                 21.0                      4.9   \n",
       "2      MUMRES18DEL02                 31.0                      4.1   \n",
       "3     INDORES15DEL01                 35.0                      4.9   \n",
       "4      DEHRES02DEL01                 28.0                      4.8   \n",
       "\n",
       "   Restaurant_latitude  Restaurant_longitude  Delivery_location_latitude  \\\n",
       "0            19.178321             72.834715                   19.208321   \n",
       "1            30.873988             75.842739                   31.003988   \n",
       "2            19.109300             72.825451                   19.129300   \n",
       "3            22.760072             75.892574                   22.830072   \n",
       "4             0.000000              0.000000                    0.040000   \n",
       "\n",
       "   Delivery_location_longitude  Order_Date     Weather Road_traffic_density  \\\n",
       "0                    72.864715  24-03-2022      Stormy               Medium   \n",
       "1                    75.972739  16-02-2022      Cloudy                  Jam   \n",
       "2                    72.845451  15-03-2022  Sandstorms                  Low   \n",
       "3                    75.962574  06-03-2022         Fog                  Jam   \n",
       "4                     0.040000  11-02-2022       Sunny                 High   \n",
       "\n",
       "   ...  Type_of_vehicle multiple_deliveries Festival           City  \\\n",
       "0  ...          scooter                 1.0       No  Metropolitian   \n",
       "1  ...       motorcycle                 1.0       No  Metropolitian   \n",
       "2  ...       motorcycle                 2.0       No          Urban   \n",
       "3  ...          scooter                 2.0       No  Metropolitian   \n",
       "4  ...          scooter                 1.0       No          Urban   \n",
       "\n",
       "  Time_taken kfold  pickup_delay  order_hour  order_minute  \\\n",
       "0       24.0     0          10.0          18          35.0   \n",
       "1       38.0     0          15.0          22          50.0   \n",
       "2       32.0     0           5.0           9          45.0   \n",
       "3       35.0     0          10.0          20          35.0   \n",
       "4       15.0     0          10.0          14           0.0   \n",
       "\n",
       "   order_minute_picked  \n",
       "0                   45  \n",
       "1                    5  \n",
       "2                   50  \n",
       "3                   45  \n",
       "4                   10  \n",
       "\n",
       "[5 rows x 22 columns]"
      ]
     },
     "execution_count": 8,
     "metadata": {},
     "output_type": "execute_result"
    }
   ],
   "source": [
    "df2.head()"
   ]
  },
  {
   "cell_type": "code",
   "execution_count": 9,
   "id": "80f251e7",
   "metadata": {},
   "outputs": [
    {
     "data": {
      "text/plain": [
       "5.0     14703\n",
       "15.0    14610\n",
       "10.0    14549\n",
       "Name: pickup_delay, dtype: int64"
      ]
     },
     "execution_count": 9,
     "metadata": {},
     "output_type": "execute_result"
    }
   ],
   "source": [
    "df2['pickup_delay'].value_counts()"
   ]
  },
  {
   "cell_type": "code",
   "execution_count": 10,
   "id": "0200f582",
   "metadata": {},
   "outputs": [
    {
     "name": "stdout",
     "output_type": "stream",
     "text": [
      "<class 'pandas.core.frame.DataFrame'>\n",
      "RangeIndex: 45593 entries, 0 to 45592\n",
      "Data columns (total 22 columns):\n",
      " #   Column                       Non-Null Count  Dtype  \n",
      "---  ------                       --------------  -----  \n",
      " 0   Delivery_person_ID           45593 non-null  object \n",
      " 1   Delivery_person_Age          43739 non-null  float64\n",
      " 2   Delivery_person_Ratings      43685 non-null  float64\n",
      " 3   Restaurant_latitude          45593 non-null  float64\n",
      " 4   Restaurant_longitude         45593 non-null  float64\n",
      " 5   Delivery_location_latitude   45593 non-null  float64\n",
      " 6   Delivery_location_longitude  45593 non-null  float64\n",
      " 7   Order_Date                   45593 non-null  object \n",
      " 8   Weather                      45593 non-null  object \n",
      " 9   Road_traffic_density         45593 non-null  object \n",
      " 10  Vehicle_condition            45593 non-null  int64  \n",
      " 11  Type_of_order                45593 non-null  object \n",
      " 12  Type_of_vehicle              45593 non-null  object \n",
      " 13  multiple_deliveries          44600 non-null  float64\n",
      " 14  Festival                     45593 non-null  object \n",
      " 15  City                         45593 non-null  object \n",
      " 16  Time_taken                   45593 non-null  float64\n",
      " 17  kfold                        45593 non-null  int64  \n",
      " 18  pickup_delay                 43862 non-null  float64\n",
      " 19  order_hour                   45593 non-null  int64  \n",
      " 20  order_minute                 43862 non-null  float64\n",
      " 21  order_minute_picked          45593 non-null  int64  \n",
      "dtypes: float64(10), int64(4), object(8)\n",
      "memory usage: 7.7+ MB\n"
     ]
    }
   ],
   "source": [
    "df2.info()"
   ]
  },
  {
   "cell_type": "code",
   "execution_count": 11,
   "id": "5612c707",
   "metadata": {},
   "outputs": [],
   "source": [
    "def check_null(df):\n",
    "    '''Returns % null values in each column'''\n",
    "    return round(100*df.isnull().sum()/len(df), 2).sort_values(ascending=False)"
   ]
  },
  {
   "cell_type": "code",
   "execution_count": 12,
   "id": "12213efa",
   "metadata": {},
   "outputs": [
    {
     "data": {
      "text/plain": [
       "Delivery_person_Ratings        4.18\n",
       "Delivery_person_Age            4.07\n",
       "order_minute                   3.80\n",
       "pickup_delay                   3.80\n",
       "multiple_deliveries            2.18\n",
       "Delivery_person_ID             0.00\n",
       "Type_of_vehicle                0.00\n",
       "order_hour                     0.00\n",
       "kfold                          0.00\n",
       "Time_taken                     0.00\n",
       "City                           0.00\n",
       "Festival                       0.00\n",
       "Type_of_order                  0.00\n",
       "Vehicle_condition              0.00\n",
       "Road_traffic_density           0.00\n",
       "Weather                        0.00\n",
       "Order_Date                     0.00\n",
       "Delivery_location_longitude    0.00\n",
       "Delivery_location_latitude     0.00\n",
       "Restaurant_longitude           0.00\n",
       "Restaurant_latitude            0.00\n",
       "order_minute_picked            0.00\n",
       "dtype: float64"
      ]
     },
     "execution_count": 12,
     "metadata": {},
     "output_type": "execute_result"
    }
   ],
   "source": [
    "check_null(df2)"
   ]
  },
  {
   "cell_type": "markdown",
   "id": "4e3d9797",
   "metadata": {},
   "source": [
    "### Catboost Performance"
   ]
  },
  {
   "cell_type": "raw",
   "id": "335d862b",
   "metadata": {},
   "source": [
    "Fold=0, R2 score=0.8169542859911648 and RMSE=4.015210588143924\n",
    "Fold=1, R2 score=0.8296153509817706 and RMSE=3.870334419147291\n",
    "Fold=2, R2 score=0.8260687947241349 and RMSE=3.911526262517634\n",
    "Fold=3, R2 score=0.8270096087799008 and RMSE=3.904681671957707\n",
    "Fold=4, R2 score=0.8237214323171764 and RMSE=3.9425342277465623"
   ]
  },
  {
   "cell_type": "code",
   "execution_count": 14,
   "id": "f188797a",
   "metadata": {},
   "outputs": [],
   "source": [
    "#changing to datetime data type\n",
    "order_date = pd.to_datetime(df2['Order_Date'], dayfirst=True)"
   ]
  },
  {
   "cell_type": "code",
   "execution_count": 15,
   "id": "d56a931a",
   "metadata": {},
   "outputs": [
    {
     "data": {
      "text/plain": [
       "array([2022], dtype=int64)"
      ]
     },
     "execution_count": 15,
     "metadata": {},
     "output_type": "execute_result"
    }
   ],
   "source": [
    "np.unique(order_date.dt.year)"
   ]
  },
  {
   "cell_type": "code",
   "execution_count": 16,
   "id": "9e5d90de",
   "metadata": {},
   "outputs": [
    {
     "data": {
      "text/plain": [
       "(45593, 22)"
      ]
     },
     "execution_count": 16,
     "metadata": {},
     "output_type": "execute_result"
    }
   ],
   "source": [
    "df2.shape"
   ]
  },
  {
   "cell_type": "code",
   "execution_count": 17,
   "id": "6c7a847b",
   "metadata": {},
   "outputs": [
    {
     "name": "stdout",
     "output_type": "stream",
     "text": [
      "<class 'pandas.core.frame.DataFrame'>\n",
      "RangeIndex: 45593 entries, 0 to 45592\n",
      "Data columns (total 22 columns):\n",
      " #   Column                       Non-Null Count  Dtype  \n",
      "---  ------                       --------------  -----  \n",
      " 0   Delivery_person_ID           45593 non-null  object \n",
      " 1   Delivery_person_Age          43739 non-null  float64\n",
      " 2   Delivery_person_Ratings      43685 non-null  float64\n",
      " 3   Restaurant_latitude          45593 non-null  float64\n",
      " 4   Restaurant_longitude         45593 non-null  float64\n",
      " 5   Delivery_location_latitude   45593 non-null  float64\n",
      " 6   Delivery_location_longitude  45593 non-null  float64\n",
      " 7   Order_Date                   45593 non-null  object \n",
      " 8   Weather                      45593 non-null  object \n",
      " 9   Road_traffic_density         45593 non-null  object \n",
      " 10  Vehicle_condition            45593 non-null  int64  \n",
      " 11  Type_of_order                45593 non-null  object \n",
      " 12  Type_of_vehicle              45593 non-null  object \n",
      " 13  multiple_deliveries          44600 non-null  float64\n",
      " 14  Festival                     45593 non-null  object \n",
      " 15  City                         45593 non-null  object \n",
      " 16  Time_taken                   45593 non-null  float64\n",
      " 17  kfold                        45593 non-null  int64  \n",
      " 18  pickup_delay                 43862 non-null  float64\n",
      " 19  order_hour                   45593 non-null  int64  \n",
      " 20  order_minute                 43862 non-null  float64\n",
      " 21  order_minute_picked          45593 non-null  int64  \n",
      "dtypes: float64(10), int64(4), object(8)\n",
      "memory usage: 7.7+ MB\n"
     ]
    }
   ],
   "source": [
    "df2.info()"
   ]
  },
  {
   "cell_type": "code",
   "execution_count": 18,
   "id": "51430024",
   "metadata": {},
   "outputs": [],
   "source": [
    "df2.loc[:, \"month\"] = order_date.apply(lambda x: x.month)\n",
    "df2.loc[:, 'day_of_week'] = order_date.apply(lambda x: x.dayofweek)\n",
    "df2.loc[:, 'week_of_year'] = order_date.apply(lambda x: x.weekofyear)\n",
    "df2.loc[:, 'weekend'] = order_date.apply(lambda x: x.dayofweek>=5).astype(np.int8)"
   ]
  },
  {
   "cell_type": "code",
   "execution_count": 19,
   "id": "0dfde419",
   "metadata": {},
   "outputs": [],
   "source": [
    "df2 = df2.drop([\"Order_Date\"], axis=1)"
   ]
  },
  {
   "cell_type": "code",
   "execution_count": 20,
   "id": "7478b20f",
   "metadata": {},
   "outputs": [
    {
     "data": {
      "text/plain": [
       "(45593, 25)"
      ]
     },
     "execution_count": 20,
     "metadata": {},
     "output_type": "execute_result"
    }
   ],
   "source": [
    "df2.shape"
   ]
  },
  {
   "cell_type": "code",
   "execution_count": 21,
   "id": "ea60d4a2",
   "metadata": {},
   "outputs": [],
   "source": [
    "def bin_time(hour):\n",
    "    if hour>=2 and hour<6:\n",
    "        return \"dawn\"\n",
    "    elif hour >= 6 and hour<10:\n",
    "        return \"morning\"\n",
    "    elif hour >= 10 and hour<14:\n",
    "        return \"noon\"\n",
    "    elif hour >=14 and hour <18:\n",
    "        return \"afternoon\"\n",
    "    elif hour >= 18 and hour<22:\n",
    "        return \"evening\"\n",
    "    else:\n",
    "        return \"midnight\""
   ]
  },
  {
   "cell_type": "code",
   "execution_count": 22,
   "id": "1e0b4115",
   "metadata": {},
   "outputs": [],
   "source": [
    "df2.loc[:, \"time_of_day\"] = df2[\"order_hour\"].apply(bin_time)"
   ]
  },
  {
   "cell_type": "code",
   "execution_count": 23,
   "id": "791f35b8",
   "metadata": {},
   "outputs": [
    {
     "data": {
      "text/plain": [
       "(45593, 26)"
      ]
     },
     "execution_count": 23,
     "metadata": {},
     "output_type": "execute_result"
    }
   ],
   "source": [
    "df2.shape"
   ]
  },
  {
   "cell_type": "code",
   "execution_count": 24,
   "id": "fafe403d",
   "metadata": {},
   "outputs": [
    {
     "name": "stdout",
     "output_type": "stream",
     "text": [
      "<class 'pandas.core.frame.DataFrame'>\n",
      "RangeIndex: 45593 entries, 0 to 45592\n",
      "Data columns (total 26 columns):\n",
      " #   Column                       Non-Null Count  Dtype  \n",
      "---  ------                       --------------  -----  \n",
      " 0   Delivery_person_ID           45593 non-null  object \n",
      " 1   Delivery_person_Age          43739 non-null  float64\n",
      " 2   Delivery_person_Ratings      43685 non-null  float64\n",
      " 3   Restaurant_latitude          45593 non-null  float64\n",
      " 4   Restaurant_longitude         45593 non-null  float64\n",
      " 5   Delivery_location_latitude   45593 non-null  float64\n",
      " 6   Delivery_location_longitude  45593 non-null  float64\n",
      " 7   Weather                      45593 non-null  object \n",
      " 8   Road_traffic_density         45593 non-null  object \n",
      " 9   Vehicle_condition            45593 non-null  int64  \n",
      " 10  Type_of_order                45593 non-null  object \n",
      " 11  Type_of_vehicle              45593 non-null  object \n",
      " 12  multiple_deliveries          44600 non-null  float64\n",
      " 13  Festival                     45593 non-null  object \n",
      " 14  City                         45593 non-null  object \n",
      " 15  Time_taken                   45593 non-null  float64\n",
      " 16  kfold                        45593 non-null  int64  \n",
      " 17  pickup_delay                 43862 non-null  float64\n",
      " 18  order_hour                   45593 non-null  int64  \n",
      " 19  order_minute                 43862 non-null  float64\n",
      " 20  order_minute_picked          45593 non-null  int64  \n",
      " 21  month                        45593 non-null  int64  \n",
      " 22  day_of_week                  45593 non-null  int64  \n",
      " 23  week_of_year                 45593 non-null  int64  \n",
      " 24  weekend                      45593 non-null  int8   \n",
      " 25  time_of_day                  45593 non-null  object \n",
      "dtypes: float64(10), int64(7), int8(1), object(8)\n",
      "memory usage: 8.7+ MB\n"
     ]
    }
   ],
   "source": [
    "df2.info()"
   ]
  },
  {
   "cell_type": "code",
   "execution_count": 25,
   "id": "b06c6360",
   "metadata": {},
   "outputs": [
    {
     "data": {
      "text/plain": [
       "Delivery_person_Ratings        4.18\n",
       "Delivery_person_Age            4.07\n",
       "order_minute                   3.80\n",
       "pickup_delay                   3.80\n",
       "multiple_deliveries            2.18\n",
       "Delivery_person_ID             0.00\n",
       "Time_taken                     0.00\n",
       "weekend                        0.00\n",
       "week_of_year                   0.00\n",
       "day_of_week                    0.00\n",
       "month                          0.00\n",
       "order_minute_picked            0.00\n",
       "order_hour                     0.00\n",
       "kfold                          0.00\n",
       "Festival                       0.00\n",
       "City                           0.00\n",
       "Type_of_vehicle                0.00\n",
       "Type_of_order                  0.00\n",
       "Vehicle_condition              0.00\n",
       "Road_traffic_density           0.00\n",
       "Weather                        0.00\n",
       "Delivery_location_longitude    0.00\n",
       "Delivery_location_latitude     0.00\n",
       "Restaurant_longitude           0.00\n",
       "Restaurant_latitude            0.00\n",
       "time_of_day                    0.00\n",
       "dtype: float64"
      ]
     },
     "execution_count": 25,
     "metadata": {},
     "output_type": "execute_result"
    }
   ],
   "source": [
    "check_null(df2)"
   ]
  },
  {
   "cell_type": "markdown",
   "id": "1557793d",
   "metadata": {},
   "source": [
    "## Catboost Performance"
   ]
  },
  {
   "cell_type": "raw",
   "id": "b77780ac",
   "metadata": {},
   "source": [
    "Fold=0, R2 score=0.8182811029479456 and RMSE=4.00063188372419\n",
    "Fold=1, R2 score=0.8273844039437592 and RMSE=3.895590304893352\n",
    "Fold=2, R2 score=0.8276855139234877 and RMSE=3.8933046800910898\n",
    "Fold=3, R2 score=0.830806493854236 and RMSE=3.8615929118229912\n",
    "Fold=4, R2 score=0.826522336371134 and RMSE=3.9110871929382016"
   ]
  },
  {
   "cell_type": "markdown",
   "id": "609c4e7c",
   "metadata": {},
   "source": [
    "#### minute improvement"
   ]
  },
  {
   "cell_type": "markdown",
   "id": "62d95d05",
   "metadata": {},
   "source": [
    "### These trignometric features can be useful for linear models"
   ]
  },
  {
   "cell_type": "code",
   "execution_count": 26,
   "id": "53a5b391",
   "metadata": {},
   "outputs": [],
   "source": [
    "def sin_cos_transform(val, period):\n",
    "    sin_ftr = np.sin(2*np.pi*(val/period))\n",
    "    cos_ftr = np.cos(2*np.pi*(val/period))\n",
    "    \n",
    "    return sin_ftr, cos_ftr"
   ]
  },
  {
   "cell_type": "code",
   "execution_count": 27,
   "id": "84cafad5",
   "metadata": {},
   "outputs": [],
   "source": [
    "def compute_trig_ftrs(df):\n",
    "    df = copy.deepcopy(df)\n",
    "    \n",
    "    ftrs = [(\"month\", 12), ('day_of_week', 7), ('week_of_year', 52),\n",
    "            ('order_hour', 12), (\"order_minute_picked\", 60)]\n",
    "    \n",
    "    for ftr,period in ftrs:\n",
    "        sin_ftr, cos_ftr = sin_cos_transform(df[ftr].values, period)\n",
    "        df.loc[:, ftr+\"_sin\"] = sin_ftr\n",
    "        df.loc[:, ftr+\"_cos\"] = cos_ftr\n",
    "        \n",
    "    return df"
   ]
  },
  {
   "cell_type": "code",
   "execution_count": 28,
   "id": "e8777c91",
   "metadata": {},
   "outputs": [],
   "source": [
    "df3 = compute_trig_ftrs(df2)"
   ]
  }
 ],
 "metadata": {
  "kernelspec": {
   "display_name": "Python 3 (ipykernel)",
   "language": "python",
   "name": "python3"
  },
  "language_info": {
   "codemirror_mode": {
    "name": "ipython",
    "version": 3
   },
   "file_extension": ".py",
   "mimetype": "text/x-python",
   "name": "python",
   "nbconvert_exporter": "python",
   "pygments_lexer": "ipython3",
   "version": "3.9.12"
  }
 },
 "nbformat": 4,
 "nbformat_minor": 5
}
