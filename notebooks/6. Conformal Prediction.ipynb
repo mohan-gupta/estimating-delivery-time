{
 "cells": [
  {
   "cell_type": "code",
   "execution_count": 1,
   "metadata": {},
   "outputs": [],
   "source": [
    "import os\n",
    "import joblib\n",
    "from collections import defaultdict\n",
    "\n",
    "import numpy as np\n",
    "import pandas as pd\n",
    "\n",
    "import plotly.graph_objs as go\n",
    "\n",
    "from mapie.regression import MapieRegressor\n",
    "from mapie.metrics import regression_coverage_score_v2\n",
    "\n",
    "from sklearn.metrics import mean_squared_error, r2_score"
   ]
  },
  {
   "cell_type": "code",
   "execution_count": 2,
   "metadata": {},
   "outputs": [],
   "source": [
    "num_df = pd.read_csv(\"../dataset/cleaned_data.csv\")"
   ]
  },
  {
   "cell_type": "code",
   "execution_count": 3,
   "metadata": {},
   "outputs": [
    {
     "data": {
      "text/plain": [
       "(45593, 19)"
      ]
     },
     "execution_count": 3,
     "metadata": {},
     "output_type": "execute_result"
    }
   ],
   "source": [
    "num_df.shape"
   ]
  },
  {
   "cell_type": "code",
   "execution_count": 4,
   "metadata": {},
   "outputs": [],
   "source": [
    "MODEL_PATH = '../model'"
   ]
  },
  {
   "cell_type": "markdown",
   "metadata": {},
   "source": [
    "## Loading the Tuned Models"
   ]
  },
  {
   "cell_type": "code",
   "execution_count": 5,
   "metadata": {},
   "outputs": [],
   "source": [
    "model_dct = defaultdict(list)"
   ]
  },
  {
   "cell_type": "code",
   "execution_count": null,
   "metadata": {},
   "outputs": [],
   "source": [
    "for fold in range(5):\n",
    "    file_name = os.path.join(MODEL_PATH, f\"tuned_xgb_{fold}.bin\")\n",
    "    model = joblib.load(file_name)\n",
    "    model_dct['xgb'].append(model)"
   ]
  },
  {
   "cell_type": "code",
   "execution_count": 7,
   "metadata": {},
   "outputs": [],
   "source": [
    "def get_data(df, fold):\n",
    "    \"\"\"Returns the data of corresponding Fold\"\"\"\n",
    "    df_train = df[df.kfold != fold].reset_index(drop=True)\n",
    "    df_valid = df[df.kfold == fold].reset_index(drop=True)\n",
    "    \n",
    "    x_train = df_train.drop([\"Time_taken\", \"kfold\"], axis=1)\n",
    "    y_train = df_train['Time_taken'].values\n",
    "    \n",
    "    x_valid = df_valid.drop([\"Time_taken\", \"kfold\"], axis=1)\n",
    "    y_valid = df_valid['Time_taken'].values\n",
    "\n",
    "    return {'x_train': x_train, 'y_train': y_train,\n",
    "        'x_valid': x_valid, 'y_valid': y_valid}"
   ]
  },
  {
   "cell_type": "code",
   "execution_count": 8,
   "metadata": {},
   "outputs": [],
   "source": [
    "def get_preds(models, fold, alpha=0.1):\n",
    "    \"\"\"Returns the Predictions of all the model in `models` list corresponding to the `fold`\"\"\"\n",
    "    model_train_preds, model_val_preds = [], []\n",
    "    model_train_confs, model_val_confs = [], []\n",
    "    \n",
    "    for model_name in models:\n",
    "        data = get_data(num_df, fold)\n",
    "        \n",
    "        conformal_reg = MapieRegressor(model_dct[model_name][fold], n_jobs=-1)\n",
    "        conformal_reg.fit(data['x_train'], data['y_train'])\n",
    "        \n",
    "        train_preds, train_confs = conformal_reg.predict(data['x_train'], alpha=alpha)\n",
    "        valid_preds, valid_confs = conformal_reg.predict(data['x_valid'], alpha=alpha)\n",
    "        \n",
    "        joblib.dump(conformal_reg, os.path.join(MODEL_PATH, f\"conf_{model_name}_{fold}.bin\"))\n",
    "\n",
    "        model_train_preds.append(train_preds)\n",
    "        model_val_preds.append(valid_preds)\n",
    "        \n",
    "        model_train_confs.append(train_confs)\n",
    "        model_val_confs.append(valid_confs)\n",
    "        \n",
    "        y_train = data['y_train']\n",
    "        y_val = data['y_valid']\n",
    "    \n",
    "    train_preds = np.array(model_train_preds).T\n",
    "    val_preds = np.array(model_val_preds).T\n",
    "    \n",
    "    train_confs = np.array(model_train_confs).T\n",
    "    val_confs = np.array(model_val_confs).T\n",
    "        \n",
    "    return {\n",
    "        'y_train': y_train,\n",
    "        'train_preds': train_preds,\n",
    "        'y_valid': y_val,\n",
    "        'valid_preds': val_preds,\n",
    "        'train_confs': train_confs,\n",
    "        'val_confs': val_confs\n",
    "    }"
   ]
  },
  {
   "cell_type": "code",
   "execution_count": null,
   "metadata": {},
   "outputs": [],
   "source": [
    "pred_df_lst=[]\n",
    "\n",
    "train_confs, val_confs = [], []\n",
    "y_train, train_preds = [], []\n",
    "for fold in range(5):\n",
    "    pred_data = get_preds(model_dct, fold)\n",
    "    pred_df = pd.DataFrame()\n",
    "    \n",
    "    pred_df['y_val'] = pred_data['y_valid']\n",
    "    pred_df['val_preds'] = pred_data['valid_preds'][:, 0]\n",
    "    \n",
    "    pred_df['kfold'] = fold\n",
    "    val_confs.append(pred_data['val_confs'])\n",
    "    \n",
    "    pred_df_lst.append(pred_df)\n",
    "    \n",
    "    train_confs.append(pred_data['train_confs'])\n",
    "    y_train.append(pred_data['y_train'])\n",
    "    train_preds.append(pred_data['train_preds'])"
   ]
  },
  {
   "cell_type": "code",
   "execution_count": 10,
   "metadata": {},
   "outputs": [
    {
     "data": {
      "text/plain": [
       "(45593, 3)"
      ]
     },
     "execution_count": 10,
     "metadata": {},
     "output_type": "execute_result"
    }
   ],
   "source": [
    "xgb_df = pd.concat(pred_df_lst, axis=0)\n",
    "xgb_df.shape"
   ]
  },
  {
   "cell_type": "code",
   "execution_count": 11,
   "metadata": {},
   "outputs": [
    {
     "data": {
      "text/html": [
       "<div>\n",
       "<style scoped>\n",
       "    .dataframe tbody tr th:only-of-type {\n",
       "        vertical-align: middle;\n",
       "    }\n",
       "\n",
       "    .dataframe tbody tr th {\n",
       "        vertical-align: top;\n",
       "    }\n",
       "\n",
       "    .dataframe thead th {\n",
       "        text-align: right;\n",
       "    }\n",
       "</style>\n",
       "<table border=\"1\" class=\"dataframe\">\n",
       "  <thead>\n",
       "    <tr style=\"text-align: right;\">\n",
       "      <th></th>\n",
       "      <th>y_val</th>\n",
       "      <th>val_preds</th>\n",
       "      <th>kfold</th>\n",
       "    </tr>\n",
       "  </thead>\n",
       "  <tbody>\n",
       "    <tr>\n",
       "      <th>0</th>\n",
       "      <td>24.0</td>\n",
       "      <td>23.212982</td>\n",
       "      <td>0</td>\n",
       "    </tr>\n",
       "    <tr>\n",
       "      <th>1</th>\n",
       "      <td>38.0</td>\n",
       "      <td>39.657745</td>\n",
       "      <td>0</td>\n",
       "    </tr>\n",
       "    <tr>\n",
       "      <th>2</th>\n",
       "      <td>32.0</td>\n",
       "      <td>26.067078</td>\n",
       "      <td>0</td>\n",
       "    </tr>\n",
       "    <tr>\n",
       "      <th>3</th>\n",
       "      <td>35.0</td>\n",
       "      <td>40.889267</td>\n",
       "      <td>0</td>\n",
       "    </tr>\n",
       "    <tr>\n",
       "      <th>4</th>\n",
       "      <td>15.0</td>\n",
       "      <td>12.677548</td>\n",
       "      <td>0</td>\n",
       "    </tr>\n",
       "  </tbody>\n",
       "</table>\n",
       "</div>"
      ],
      "text/plain": [
       "   y_val  val_preds  kfold\n",
       "0   24.0  23.212982      0\n",
       "1   38.0  39.657745      0\n",
       "2   32.0  26.067078      0\n",
       "3   35.0  40.889267      0\n",
       "4   15.0  12.677548      0"
      ]
     },
     "execution_count": 11,
     "metadata": {},
     "output_type": "execute_result"
    }
   ],
   "source": [
    "xgb_df.head()"
   ]
  },
  {
   "cell_type": "code",
   "execution_count": 40,
   "metadata": {},
   "outputs": [],
   "source": [
    "y_train = np.concatenate(y_train)\n",
    "train_preds = np.concatenate(train_preds)"
   ]
  },
  {
   "cell_type": "code",
   "execution_count": 33,
   "metadata": {},
   "outputs": [],
   "source": [
    "def get_confs(confs):\n",
    "    upper, lower = [], []\n",
    "    for conf in confs:\n",
    "        x = conf[0]\n",
    "        upper.append(x[1])\n",
    "        lower.append(x[0])\n",
    "    \n",
    "    upper_confs = np.concatenate(upper)\n",
    "    lower_confs = np.concatenate(lower)\n",
    "    \n",
    "    return (lower_confs, upper_confs)"
   ]
  },
  {
   "cell_type": "code",
   "execution_count": 34,
   "metadata": {},
   "outputs": [],
   "source": [
    "val_lower_confs, val_upper_confs = get_confs(val_confs)\n",
    "train_lower_confs, train_upper_confs = get_confs(train_confs)"
   ]
  },
  {
   "cell_type": "code",
   "execution_count": 35,
   "metadata": {},
   "outputs": [],
   "source": [
    "train_confs = np.concatenate([train_lower_confs, train_upper_confs], axis=1)\n",
    "val_confs = np.concatenate([val_lower_confs, val_upper_confs], axis=1)"
   ]
  },
  {
   "cell_type": "code",
   "execution_count": 44,
   "metadata": {},
   "outputs": [
    {
     "data": {
      "text/plain": [
       "['../pred_data/data.bin']"
      ]
     },
     "execution_count": 44,
     "metadata": {},
     "output_type": "execute_result"
    }
   ],
   "source": [
    "pred_data = {\n",
    "    \"y_train\": y_train,\n",
    "    \"train_preds\": train_preds,\n",
    "    \"train_confs\": train_confs,\n",
    "    \"y_val\": xgb_df['y_val'].values,\n",
    "    \"val_preds\": xgb_df['val_preds'].values,\n",
    "    \"val_confs\": val_confs\n",
    "}\n",
    "\n",
    "joblib.dump(pred_data, \"../pred_data/data.bin\")"
   ]
  },
  {
   "cell_type": "code",
   "execution_count": 6,
   "metadata": {},
   "outputs": [],
   "source": [
    "pred_data = joblib.load(\"../pred_data/data.bin\")\n",
    "\n",
    "y_train = pred_data[\"y_train\"]\n",
    "train_preds = pred_data['train_preds']\n",
    "train_confs = pred_data['train_confs']\n",
    "\n",
    "y_val =  pred_data['y_val']\n",
    "val_preds = pred_data['val_preds']\n",
    "val_confs = pred_data['val_confs']"
   ]
  },
  {
   "cell_type": "code",
   "execution_count": 7,
   "metadata": {},
   "outputs": [],
   "source": [
    "estimated_coverage_train = regression_coverage_score_v2(y_train, train_confs)\n",
    "estimated_coverage_val = regression_coverage_score_v2(y_val, val_confs)\n",
    "\n",
    "train_mse = mean_squared_error(y_train, train_preds)\n",
    "val_mse = mean_squared_error(y_val, val_preds)\n",
    "\n",
    "train_r2 = r2_score(y_train, train_preds)\n",
    "val_r2 = r2_score(y_val, val_preds)"
   ]
  },
  {
   "cell_type": "code",
   "execution_count": 10,
   "metadata": {},
   "outputs": [],
   "source": [
    "estimated_coverage_val = round(estimated_coverage_val[0]*100, 3)\n",
    "estimated_coverage_train = round(estimated_coverage_train[0]*100, 3)\n",
    "\n",
    "train_mse = round(train_mse, 3)\n",
    "val_mse = round(val_mse, 3)\n",
    "\n",
    "train_r2 = round(train_r2, 3)\n",
    "val_r2 = round(val_r2, 3)"
   ]
  },
  {
   "cell_type": "code",
   "execution_count": 8,
   "metadata": {},
   "outputs": [],
   "source": [
    "x = np.arange(len(y_val))"
   ]
  },
  {
   "cell_type": "code",
   "execution_count": 36,
   "metadata": {},
   "outputs": [],
   "source": [
    "def get_conf_plot(data_slice: slice):\n",
    "    fig = go.Figure([\n",
    "        go.Scatter(\n",
    "            name='Val Preds',\n",
    "            x=x[data_slice],\n",
    "            y=val_preds[data_slice],\n",
    "            mode='lines',\n",
    "            line=dict(color='rgb(209, 238, 234)'),\n",
    "        ),\n",
    "        go.Scatter(\n",
    "            name='Val Target',\n",
    "            x=x[data_slice],\n",
    "            y=y_val[data_slice],\n",
    "            mode='lines',\n",
    "            line=dict(color='rgb(79, 144, 166)'),\n",
    "        ),\n",
    "        go.Scatter(\n",
    "            name='Upper Bound',\n",
    "            x=x[data_slice],\n",
    "            y=val_confs[:, 1][data_slice],\n",
    "            mode='lines',\n",
    "            marker=dict(color=\"#444\"),\n",
    "            line=dict(width=0),\n",
    "            showlegend=False\n",
    "        ),\n",
    "        go.Scatter(\n",
    "            name='Lower Bound',\n",
    "            x=x[data_slice],\n",
    "            y=val_confs[:, 0][data_slice],\n",
    "            marker=dict(color=\"#444\"),\n",
    "            line=dict(width=0),\n",
    "            mode='lines',\n",
    "            fillcolor='rgba(133, 196, 201,0.2)',\n",
    "            fill='tonexty',\n",
    "            showlegend=False\n",
    "        )\n",
    "    ])\n",
    "    fig.update_layout(\n",
    "        yaxis_title='ETA',\n",
    "        title=f'XGBoost Conformalized Predictions(Target Coverage = 90,Estimated Coverage  = {estimated_coverage_val})',\n",
    "        hovermode=\"x\",\n",
    "        template=\"plotly_dark\"\n",
    "    )\n",
    "    return fig"
   ]
  },
  {
   "cell_type": "code",
   "execution_count": 37,
   "metadata": {},
   "outputs": [
    {
     "data": {
      "application/vnd.plotly.v1+json": {
       "config": {
        "plotlyServerURL": "https://plot.ly"
       },
       "data": [
        {
         "line": {
          "color": "rgb(209, 238, 234)"
         },
         "mode": "lines",
         "name": "Val Preds",
         "type": "scatter",
         "x": [
          0,
          1,
          2,
          3,
          4,
          5,
          6,
          7,
          8,
          9,
          10,
          11,
          12,
          13,
          14,
          15,
          16,
          17,
          18,
          19,
          20,
          21,
          22,
          23,
          24,
          25,
          26,
          27,
          28,
          29,
          30,
          31,
          32,
          33,
          34,
          35,
          36,
          37,
          38,
          39,
          40,
          41,
          42,
          43,
          44,
          45,
          46,
          47,
          48,
          49
         ],
         "y": [
          23.212982,
          39.657745,
          26.067078,
          40.889267,
          12.677548,
          22.637234,
          14.7829685,
          34.411114,
          19.992237,
          23.7431,
          21.345045,
          25.055075,
          48.1568,
          18.765472,
          23.094185,
          16.538795,
          24.977531,
          44.034687,
          20.363857,
          22.925877,
          23.565516,
          14.8015,
          20.234678,
          46.022152,
          30.583284,
          35.236225,
          33.060074,
          20.004452,
          25.084028,
          13.025583,
          38.411804,
          30.212385,
          22.075882,
          28.212578,
          23.930511,
          25.010862,
          17.742132,
          30.721176,
          13.3541565,
          20.97079,
          19.970959,
          26.49602,
          13.597062,
          17.62537,
          24.844803,
          23.254747,
          17.910442,
          14.9501705,
          19.178215,
          17.645067
         ]
        },
        {
         "line": {
          "color": "rgb(79, 144, 166)"
         },
         "mode": "lines",
         "name": "Val Target",
         "type": "scatter",
         "x": [
          0,
          1,
          2,
          3,
          4,
          5,
          6,
          7,
          8,
          9,
          10,
          11,
          12,
          13,
          14,
          15,
          16,
          17,
          18,
          19,
          20,
          21,
          22,
          23,
          24,
          25,
          26,
          27,
          28,
          29,
          30,
          31,
          32,
          33,
          34,
          35,
          36,
          37,
          38,
          39,
          40,
          41,
          42,
          43,
          44,
          45,
          46,
          47,
          48,
          49
         ],
         "y": [
          24,
          38,
          32,
          35,
          15,
          21,
          17,
          42,
          20,
          27,
          20,
          28,
          46,
          16,
          25,
          20,
          28,
          39,
          22,
          24,
          29,
          15,
          17,
          44,
          30,
          42,
          29,
          23,
          27,
          15,
          40,
          37,
          19,
          29,
          20,
          28,
          22,
          39,
          11,
          27,
          24,
          23,
          10,
          18,
          20,
          24,
          15,
          10,
          21,
          24
         ]
        },
        {
         "line": {
          "width": 0
         },
         "marker": {
          "color": "#444"
         },
         "mode": "lines",
         "name": "Upper Bound",
         "showlegend": false,
         "type": "scatter",
         "x": [
          0,
          1,
          2,
          3,
          4,
          5,
          6,
          7,
          8,
          9,
          10,
          11,
          12,
          13,
          14,
          15,
          16,
          17,
          18,
          19,
          20,
          21,
          22,
          23,
          24,
          25,
          26,
          27,
          28,
          29,
          30,
          31,
          32,
          33,
          34,
          35,
          36,
          37,
          38,
          39,
          40,
          41,
          42,
          43,
          44,
          45,
          46,
          47,
          48,
          49
         ],
         "y": [
          29.12576675415039,
          45.7536678314209,
          32.19213104248047,
          46.96435546875,
          19.68992805480957,
          28.5612850189209,
          21.00338363647461,
          40.005117416381836,
          26.172067642211914,
          29.890811920166016,
          27.430551528930664,
          31.160247802734375,
          54.46538162231445,
          24.55031967163086,
          29.317916870117188,
          22.89207649230957,
          31.113367080688477,
          50.16721725463867,
          26.584543228149414,
          28.905229568481445,
          30.080507278442383,
          20.987014770507812,
          26.706174850463867,
          52.78729248046875,
          36.95995903015137,
          41.14640808105469,
          39.009029388427734,
          25.9189510345459,
          31.268333435058594,
          19.23111057281494,
          44.83806228637695,
          36.482051849365234,
          28.327129364013672,
          34.55192756652832,
          30.15743064880371,
          31.013290405273438,
          23.61029624938965,
          36.71988296508789,
          19.408326148986816,
          27.508407592773438,
          26.140403747558594,
          32.84143257141113,
          19.93834114074707,
          24.438344955444336,
          31.03089141845703,
          29.228057861328125,
          23.703977584838867,
          21.212849617004395,
          25.403730392456055,
          23.652626037597656
         ]
        },
        {
         "fill": "tonexty",
         "fillcolor": "rgba(133, 196, 201,0.2)",
         "line": {
          "width": 0
         },
         "marker": {
          "color": "#444"
         },
         "mode": "lines",
         "name": "Lower Bound",
         "showlegend": false,
         "type": "scatter",
         "x": [
          0,
          1,
          2,
          3,
          4,
          5,
          6,
          7,
          8,
          9,
          10,
          11,
          12,
          13,
          14,
          15,
          16,
          17,
          18,
          19,
          20,
          21,
          22,
          23,
          24,
          25,
          26,
          27,
          28,
          29,
          30,
          31,
          32,
          33,
          34,
          35,
          36,
          37,
          38,
          39,
          40,
          41,
          42,
          43,
          44,
          45,
          46,
          47,
          48,
          49
         ],
         "y": [
          16.77835464477539,
          33.403804779052734,
          19.771577835083008,
          34.57516288757324,
          7.279932975769043,
          16.183817863464355,
          8.633607864379883,
          27.074928283691406,
          13.690942764282227,
          17.542367935180664,
          15.059989929199219,
          18.810556411743164,
          42.0853271484375,
          12.205284118652344,
          16.92221450805664,
          10.501777648925781,
          18.76905632019043,
          37.78695869445801,
          14.232231140136719,
          16.553630828857422,
          17.71678924560547,
          8.572771072387695,
          14.214025497436523,
          40.34672927856445,
          24.53453826904297,
          28.78367042541504,
          26.59442138671875,
          13.569293975830078,
          18.913970947265625,
          6.851034164428711,
          32.470136642456055,
          24.131032943725586,
          15.97433090209961,
          22.185977935791016,
          17.799936294555664,
          18.65996742248535,
          11.14767837524414,
          24.367006301879883,
          7.056608200073242,
          15.056161880493164,
          13.794271469116211,
          20.480588912963867,
          7.583701133728027,
          11.934715270996094,
          18.689434051513672,
          16.797298431396484,
          11.351640701293945,
          8.84460735321045,
          13.041730880737305,
          11.126180648803711
         ]
        }
       ],
       "layout": {
        "hovermode": "x",
        "template": {
         "data": {
          "bar": [
           {
            "error_x": {
             "color": "#f2f5fa"
            },
            "error_y": {
             "color": "#f2f5fa"
            },
            "marker": {
             "line": {
              "color": "rgb(17,17,17)",
              "width": 0.5
             },
             "pattern": {
              "fillmode": "overlay",
              "size": 10,
              "solidity": 0.2
             }
            },
            "type": "bar"
           }
          ],
          "barpolar": [
           {
            "marker": {
             "line": {
              "color": "rgb(17,17,17)",
              "width": 0.5
             },
             "pattern": {
              "fillmode": "overlay",
              "size": 10,
              "solidity": 0.2
             }
            },
            "type": "barpolar"
           }
          ],
          "carpet": [
           {
            "aaxis": {
             "endlinecolor": "#A2B1C6",
             "gridcolor": "#506784",
             "linecolor": "#506784",
             "minorgridcolor": "#506784",
             "startlinecolor": "#A2B1C6"
            },
            "baxis": {
             "endlinecolor": "#A2B1C6",
             "gridcolor": "#506784",
             "linecolor": "#506784",
             "minorgridcolor": "#506784",
             "startlinecolor": "#A2B1C6"
            },
            "type": "carpet"
           }
          ],
          "choropleth": [
           {
            "colorbar": {
             "outlinewidth": 0,
             "ticks": ""
            },
            "type": "choropleth"
           }
          ],
          "contour": [
           {
            "colorbar": {
             "outlinewidth": 0,
             "ticks": ""
            },
            "colorscale": [
             [
              0,
              "#0d0887"
             ],
             [
              0.1111111111111111,
              "#46039f"
             ],
             [
              0.2222222222222222,
              "#7201a8"
             ],
             [
              0.3333333333333333,
              "#9c179e"
             ],
             [
              0.4444444444444444,
              "#bd3786"
             ],
             [
              0.5555555555555556,
              "#d8576b"
             ],
             [
              0.6666666666666666,
              "#ed7953"
             ],
             [
              0.7777777777777778,
              "#fb9f3a"
             ],
             [
              0.8888888888888888,
              "#fdca26"
             ],
             [
              1,
              "#f0f921"
             ]
            ],
            "type": "contour"
           }
          ],
          "contourcarpet": [
           {
            "colorbar": {
             "outlinewidth": 0,
             "ticks": ""
            },
            "type": "contourcarpet"
           }
          ],
          "heatmap": [
           {
            "colorbar": {
             "outlinewidth": 0,
             "ticks": ""
            },
            "colorscale": [
             [
              0,
              "#0d0887"
             ],
             [
              0.1111111111111111,
              "#46039f"
             ],
             [
              0.2222222222222222,
              "#7201a8"
             ],
             [
              0.3333333333333333,
              "#9c179e"
             ],
             [
              0.4444444444444444,
              "#bd3786"
             ],
             [
              0.5555555555555556,
              "#d8576b"
             ],
             [
              0.6666666666666666,
              "#ed7953"
             ],
             [
              0.7777777777777778,
              "#fb9f3a"
             ],
             [
              0.8888888888888888,
              "#fdca26"
             ],
             [
              1,
              "#f0f921"
             ]
            ],
            "type": "heatmap"
           }
          ],
          "heatmapgl": [
           {
            "colorbar": {
             "outlinewidth": 0,
             "ticks": ""
            },
            "colorscale": [
             [
              0,
              "#0d0887"
             ],
             [
              0.1111111111111111,
              "#46039f"
             ],
             [
              0.2222222222222222,
              "#7201a8"
             ],
             [
              0.3333333333333333,
              "#9c179e"
             ],
             [
              0.4444444444444444,
              "#bd3786"
             ],
             [
              0.5555555555555556,
              "#d8576b"
             ],
             [
              0.6666666666666666,
              "#ed7953"
             ],
             [
              0.7777777777777778,
              "#fb9f3a"
             ],
             [
              0.8888888888888888,
              "#fdca26"
             ],
             [
              1,
              "#f0f921"
             ]
            ],
            "type": "heatmapgl"
           }
          ],
          "histogram": [
           {
            "marker": {
             "pattern": {
              "fillmode": "overlay",
              "size": 10,
              "solidity": 0.2
             }
            },
            "type": "histogram"
           }
          ],
          "histogram2d": [
           {
            "colorbar": {
             "outlinewidth": 0,
             "ticks": ""
            },
            "colorscale": [
             [
              0,
              "#0d0887"
             ],
             [
              0.1111111111111111,
              "#46039f"
             ],
             [
              0.2222222222222222,
              "#7201a8"
             ],
             [
              0.3333333333333333,
              "#9c179e"
             ],
             [
              0.4444444444444444,
              "#bd3786"
             ],
             [
              0.5555555555555556,
              "#d8576b"
             ],
             [
              0.6666666666666666,
              "#ed7953"
             ],
             [
              0.7777777777777778,
              "#fb9f3a"
             ],
             [
              0.8888888888888888,
              "#fdca26"
             ],
             [
              1,
              "#f0f921"
             ]
            ],
            "type": "histogram2d"
           }
          ],
          "histogram2dcontour": [
           {
            "colorbar": {
             "outlinewidth": 0,
             "ticks": ""
            },
            "colorscale": [
             [
              0,
              "#0d0887"
             ],
             [
              0.1111111111111111,
              "#46039f"
             ],
             [
              0.2222222222222222,
              "#7201a8"
             ],
             [
              0.3333333333333333,
              "#9c179e"
             ],
             [
              0.4444444444444444,
              "#bd3786"
             ],
             [
              0.5555555555555556,
              "#d8576b"
             ],
             [
              0.6666666666666666,
              "#ed7953"
             ],
             [
              0.7777777777777778,
              "#fb9f3a"
             ],
             [
              0.8888888888888888,
              "#fdca26"
             ],
             [
              1,
              "#f0f921"
             ]
            ],
            "type": "histogram2dcontour"
           }
          ],
          "mesh3d": [
           {
            "colorbar": {
             "outlinewidth": 0,
             "ticks": ""
            },
            "type": "mesh3d"
           }
          ],
          "parcoords": [
           {
            "line": {
             "colorbar": {
              "outlinewidth": 0,
              "ticks": ""
             }
            },
            "type": "parcoords"
           }
          ],
          "pie": [
           {
            "automargin": true,
            "type": "pie"
           }
          ],
          "scatter": [
           {
            "marker": {
             "line": {
              "color": "#283442"
             }
            },
            "type": "scatter"
           }
          ],
          "scatter3d": [
           {
            "line": {
             "colorbar": {
              "outlinewidth": 0,
              "ticks": ""
             }
            },
            "marker": {
             "colorbar": {
              "outlinewidth": 0,
              "ticks": ""
             }
            },
            "type": "scatter3d"
           }
          ],
          "scattercarpet": [
           {
            "marker": {
             "colorbar": {
              "outlinewidth": 0,
              "ticks": ""
             }
            },
            "type": "scattercarpet"
           }
          ],
          "scattergeo": [
           {
            "marker": {
             "colorbar": {
              "outlinewidth": 0,
              "ticks": ""
             }
            },
            "type": "scattergeo"
           }
          ],
          "scattergl": [
           {
            "marker": {
             "line": {
              "color": "#283442"
             }
            },
            "type": "scattergl"
           }
          ],
          "scattermapbox": [
           {
            "marker": {
             "colorbar": {
              "outlinewidth": 0,
              "ticks": ""
             }
            },
            "type": "scattermapbox"
           }
          ],
          "scatterpolar": [
           {
            "marker": {
             "colorbar": {
              "outlinewidth": 0,
              "ticks": ""
             }
            },
            "type": "scatterpolar"
           }
          ],
          "scatterpolargl": [
           {
            "marker": {
             "colorbar": {
              "outlinewidth": 0,
              "ticks": ""
             }
            },
            "type": "scatterpolargl"
           }
          ],
          "scatterternary": [
           {
            "marker": {
             "colorbar": {
              "outlinewidth": 0,
              "ticks": ""
             }
            },
            "type": "scatterternary"
           }
          ],
          "surface": [
           {
            "colorbar": {
             "outlinewidth": 0,
             "ticks": ""
            },
            "colorscale": [
             [
              0,
              "#0d0887"
             ],
             [
              0.1111111111111111,
              "#46039f"
             ],
             [
              0.2222222222222222,
              "#7201a8"
             ],
             [
              0.3333333333333333,
              "#9c179e"
             ],
             [
              0.4444444444444444,
              "#bd3786"
             ],
             [
              0.5555555555555556,
              "#d8576b"
             ],
             [
              0.6666666666666666,
              "#ed7953"
             ],
             [
              0.7777777777777778,
              "#fb9f3a"
             ],
             [
              0.8888888888888888,
              "#fdca26"
             ],
             [
              1,
              "#f0f921"
             ]
            ],
            "type": "surface"
           }
          ],
          "table": [
           {
            "cells": {
             "fill": {
              "color": "#506784"
             },
             "line": {
              "color": "rgb(17,17,17)"
             }
            },
            "header": {
             "fill": {
              "color": "#2a3f5f"
             },
             "line": {
              "color": "rgb(17,17,17)"
             }
            },
            "type": "table"
           }
          ]
         },
         "layout": {
          "annotationdefaults": {
           "arrowcolor": "#f2f5fa",
           "arrowhead": 0,
           "arrowwidth": 1
          },
          "autotypenumbers": "strict",
          "coloraxis": {
           "colorbar": {
            "outlinewidth": 0,
            "ticks": ""
           }
          },
          "colorscale": {
           "diverging": [
            [
             0,
             "#8e0152"
            ],
            [
             0.1,
             "#c51b7d"
            ],
            [
             0.2,
             "#de77ae"
            ],
            [
             0.3,
             "#f1b6da"
            ],
            [
             0.4,
             "#fde0ef"
            ],
            [
             0.5,
             "#f7f7f7"
            ],
            [
             0.6,
             "#e6f5d0"
            ],
            [
             0.7,
             "#b8e186"
            ],
            [
             0.8,
             "#7fbc41"
            ],
            [
             0.9,
             "#4d9221"
            ],
            [
             1,
             "#276419"
            ]
           ],
           "sequential": [
            [
             0,
             "#0d0887"
            ],
            [
             0.1111111111111111,
             "#46039f"
            ],
            [
             0.2222222222222222,
             "#7201a8"
            ],
            [
             0.3333333333333333,
             "#9c179e"
            ],
            [
             0.4444444444444444,
             "#bd3786"
            ],
            [
             0.5555555555555556,
             "#d8576b"
            ],
            [
             0.6666666666666666,
             "#ed7953"
            ],
            [
             0.7777777777777778,
             "#fb9f3a"
            ],
            [
             0.8888888888888888,
             "#fdca26"
            ],
            [
             1,
             "#f0f921"
            ]
           ],
           "sequentialminus": [
            [
             0,
             "#0d0887"
            ],
            [
             0.1111111111111111,
             "#46039f"
            ],
            [
             0.2222222222222222,
             "#7201a8"
            ],
            [
             0.3333333333333333,
             "#9c179e"
            ],
            [
             0.4444444444444444,
             "#bd3786"
            ],
            [
             0.5555555555555556,
             "#d8576b"
            ],
            [
             0.6666666666666666,
             "#ed7953"
            ],
            [
             0.7777777777777778,
             "#fb9f3a"
            ],
            [
             0.8888888888888888,
             "#fdca26"
            ],
            [
             1,
             "#f0f921"
            ]
           ]
          },
          "colorway": [
           "#636efa",
           "#EF553B",
           "#00cc96",
           "#ab63fa",
           "#FFA15A",
           "#19d3f3",
           "#FF6692",
           "#B6E880",
           "#FF97FF",
           "#FECB52"
          ],
          "font": {
           "color": "#f2f5fa"
          },
          "geo": {
           "bgcolor": "rgb(17,17,17)",
           "lakecolor": "rgb(17,17,17)",
           "landcolor": "rgb(17,17,17)",
           "showlakes": true,
           "showland": true,
           "subunitcolor": "#506784"
          },
          "hoverlabel": {
           "align": "left"
          },
          "hovermode": "closest",
          "mapbox": {
           "style": "dark"
          },
          "paper_bgcolor": "rgb(17,17,17)",
          "plot_bgcolor": "rgb(17,17,17)",
          "polar": {
           "angularaxis": {
            "gridcolor": "#506784",
            "linecolor": "#506784",
            "ticks": ""
           },
           "bgcolor": "rgb(17,17,17)",
           "radialaxis": {
            "gridcolor": "#506784",
            "linecolor": "#506784",
            "ticks": ""
           }
          },
          "scene": {
           "xaxis": {
            "backgroundcolor": "rgb(17,17,17)",
            "gridcolor": "#506784",
            "gridwidth": 2,
            "linecolor": "#506784",
            "showbackground": true,
            "ticks": "",
            "zerolinecolor": "#C8D4E3"
           },
           "yaxis": {
            "backgroundcolor": "rgb(17,17,17)",
            "gridcolor": "#506784",
            "gridwidth": 2,
            "linecolor": "#506784",
            "showbackground": true,
            "ticks": "",
            "zerolinecolor": "#C8D4E3"
           },
           "zaxis": {
            "backgroundcolor": "rgb(17,17,17)",
            "gridcolor": "#506784",
            "gridwidth": 2,
            "linecolor": "#506784",
            "showbackground": true,
            "ticks": "",
            "zerolinecolor": "#C8D4E3"
           }
          },
          "shapedefaults": {
           "line": {
            "color": "#f2f5fa"
           }
          },
          "sliderdefaults": {
           "bgcolor": "#C8D4E3",
           "bordercolor": "rgb(17,17,17)",
           "borderwidth": 1,
           "tickwidth": 0
          },
          "ternary": {
           "aaxis": {
            "gridcolor": "#506784",
            "linecolor": "#506784",
            "ticks": ""
           },
           "baxis": {
            "gridcolor": "#506784",
            "linecolor": "#506784",
            "ticks": ""
           },
           "bgcolor": "rgb(17,17,17)",
           "caxis": {
            "gridcolor": "#506784",
            "linecolor": "#506784",
            "ticks": ""
           }
          },
          "title": {
           "x": 0.05
          },
          "updatemenudefaults": {
           "bgcolor": "#506784",
           "borderwidth": 0
          },
          "xaxis": {
           "automargin": true,
           "gridcolor": "#283442",
           "linecolor": "#506784",
           "ticks": "",
           "title": {
            "standoff": 15
           },
           "zerolinecolor": "#283442",
           "zerolinewidth": 2
          },
          "yaxis": {
           "automargin": true,
           "gridcolor": "#283442",
           "linecolor": "#506784",
           "ticks": "",
           "title": {
            "standoff": 15
           },
           "zerolinecolor": "#283442",
           "zerolinewidth": 2
          }
         }
        },
        "title": {
         "text": "XGBoost Conformalized Predictions(Target Coverage = 90,Estimated Coverage  = 90.415)"
        },
        "yaxis": {
         "title": {
          "text": "ETA"
         }
        }
       }
      }
     },
     "metadata": {},
     "output_type": "display_data"
    }
   ],
   "source": [
    "data_slice = slice(50)\n",
    "fig = get_conf_plot(data_slice)\n",
    "fig.show()"
   ]
  }
 ],
 "metadata": {
  "kernelspec": {
   "display_name": "base",
   "language": "python",
   "name": "python3"
  },
  "language_info": {
   "codemirror_mode": {
    "name": "ipython",
    "version": 3
   },
   "file_extension": ".py",
   "mimetype": "text/x-python",
   "name": "python",
   "nbconvert_exporter": "python",
   "pygments_lexer": "ipython3",
   "version": "3.10.12"
  }
 },
 "nbformat": 4,
 "nbformat_minor": 2
}
