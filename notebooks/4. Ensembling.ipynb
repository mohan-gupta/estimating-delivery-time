{
 "cells": [
  {
   "cell_type": "code",
   "execution_count": 1,
   "id": "9d8a90a8",
   "metadata": {},
   "outputs": [],
   "source": [
    "import os\n",
    "import joblib\n",
    "from collections import defaultdict\n",
    "\n",
    "import numpy as np\n",
    "import pandas as pd\n",
    "\n",
    "from sklearn.metrics import mean_squared_error, r2_score\n",
    "\n",
    "from sklearn.preprocessing import StandardScaler\n",
    "from sklearn.linear_model import LinearRegression\n",
    "from sklearn.pipeline import Pipeline\n",
    "\n",
    "from sklearn.ensemble import VotingRegressor, StackingRegressor, RandomForestRegressor\n",
    "\n",
    "from xgboost import XGBRegressor\n",
    "from catboost import CatBoostRegressor\n",
    "from lightgbm import LGBMRegressor"
   ]
  },
  {
   "cell_type": "code",
   "execution_count": 2,
   "id": "094bea22",
   "metadata": {},
   "outputs": [],
   "source": [
    "num_df = pd.read_csv(\"../dataset/cleaned_data.csv\")\n",
    "cat_df = pd.read_csv(\"../dataset/cat_data.csv\")"
   ]
  },
  {
   "cell_type": "code",
   "execution_count": 3,
   "id": "c17a798a",
   "metadata": {},
   "outputs": [
    {
     "data": {
      "text/plain": [
       "((45593, 19), (45593, 20))"
      ]
     },
     "execution_count": 3,
     "metadata": {},
     "output_type": "execute_result"
    }
   ],
   "source": [
    "num_df.shape, cat_df.shape"
   ]
  },
  {
   "cell_type": "code",
   "execution_count": 4,
   "id": "7acb754b",
   "metadata": {},
   "outputs": [],
   "source": [
    "MODEL_PATH = '../model'"
   ]
  },
  {
   "cell_type": "markdown",
   "id": "165f33d9",
   "metadata": {},
   "source": [
    "## Loading the Tuned Models"
   ]
  },
  {
   "cell_type": "code",
   "execution_count": 5,
   "id": "da3d7f79",
   "metadata": {},
   "outputs": [],
   "source": [
    "model_dct = defaultdict(list)"
   ]
  },
  {
   "cell_type": "code",
   "execution_count": 6,
   "id": "daddb68c",
   "metadata": {},
   "outputs": [],
   "source": [
    "for model_name in ('catb', 'lgbm', 'xgb'):\n",
    "    for fold in range(5):\n",
    "        file_name = os.path.join(MODEL_PATH, f\"tuned_{model_name}_{fold}.bin\")\n",
    "        model = joblib.load(file_name)\n",
    "        \n",
    "        model_dct[model_name].append(model)"
   ]
  },
  {
   "cell_type": "code",
   "execution_count": 7,
   "id": "e8ecc158",
   "metadata": {},
   "outputs": [],
   "source": [
    "def get_data(df, fold):\n",
    "    \"\"\"Returns the data of corresponding Fold\"\"\"\n",
    "    df_train = df[df.kfold != fold].reset_index(drop=True)\n",
    "    df_valid = df[df.kfold == fold].reset_index(drop=True)\n",
    "    \n",
    "    x_train = df_train.drop([\"Time_taken\", \"kfold\"], axis=1)\n",
    "    y_train = df_train['Time_taken'].values\n",
    "    \n",
    "    x_valid = df_valid.drop([\"Time_taken\", \"kfold\"], axis=1)\n",
    "    y_valid = df_valid['Time_taken'].values\n",
    "\n",
    "    return {'x_train': x_train, 'y_train': y_train,\n",
    "        'x_valid': x_valid, 'y_valid': y_valid}"
   ]
  },
  {
   "cell_type": "code",
   "execution_count": 8,
   "id": "439d01e3",
   "metadata": {},
   "outputs": [],
   "source": [
    "def model_predict(model_name, data, fold):\n",
    "    \"\"\"Returns the predictions of the Model with `model_name` and `fold`\"\"\"\n",
    "    train_preds = model_dct[model_name][fold].predict(data['x_train'])\n",
    "    val_preds = model_dct[model_name][fold].predict(data['x_valid'])\n",
    "    return {\n",
    "        'train_preds': train_preds,\n",
    "        'valid_preds': val_preds\n",
    "    }"
   ]
  },
  {
   "cell_type": "code",
   "execution_count": 9,
   "id": "23d2dd76",
   "metadata": {},
   "outputs": [],
   "source": [
    "def get_preds(models, fold):\n",
    "    \"\"\"Returns the Predictions of all the model in `models` list corresponding to the `fold`\"\"\"\n",
    "    model_train_preds, model_val_preds = [], []\n",
    "    \n",
    "    for model in models:\n",
    "#         both num_data and cat_data have same indexes for y_valid,\n",
    "#         i.e., all(num_data['y_valid']==cat_data['y_valid']) -> True\n",
    "        if model=='catb':\n",
    "            data = get_data(cat_df, fold)\n",
    "        else:\n",
    "            data = get_data(num_df, fold)\n",
    "\n",
    "        preds = model_predict(model, data, fold)\n",
    "        \n",
    "        model_train_preds.append(preds['train_preds'])\n",
    "        model_val_preds.append(preds['valid_preds'])\n",
    "        \n",
    "        y_train = data['y_train']\n",
    "        y_val = data['y_valid']\n",
    "    \n",
    "    train_preds = np.array(model_train_preds).T\n",
    "    val_preds = np.array(model_val_preds).T\n",
    "        \n",
    "    return {\n",
    "        'y_train': y_train,\n",
    "        'train_preds': train_preds,\n",
    "        'y_valid': y_val,\n",
    "        'valid_preds': val_preds\n",
    "    }"
   ]
  },
  {
   "cell_type": "code",
   "execution_count": 10,
   "id": "af914be9",
   "metadata": {},
   "outputs": [],
   "source": [
    "base_models = ['xgb', 'catb', 'lgbm']"
   ]
  },
  {
   "cell_type": "code",
   "execution_count": 11,
   "id": "a2bbeacf",
   "metadata": {},
   "outputs": [],
   "source": [
    "pred_df_lst=[]\n",
    "for fold in range(5):\n",
    "    pred_data = get_preds(base_models, fold)\n",
    "    pred_df = pd.DataFrame()\n",
    "    pred_df['xgb'] = pred_data['valid_preds'][:, 0]\n",
    "    pred_df['catb'] = pred_data['valid_preds'][:, 1]\n",
    "    pred_df['lgbm'] = pred_data['valid_preds'][:, 2]\n",
    "    \n",
    "    pred_df['kfold'] = fold\n",
    "    \n",
    "    pred_df_lst.append(pred_df)\n",
    "\n",
    "model_pred_df = pd.concat(pred_df_lst, axis=0)"
   ]
  },
  {
   "cell_type": "code",
   "execution_count": 12,
   "id": "e3eaf826",
   "metadata": {},
   "outputs": [
    {
     "data": {
      "text/html": [
       "<div>\n",
       "<style scoped>\n",
       "    .dataframe tbody tr th:only-of-type {\n",
       "        vertical-align: middle;\n",
       "    }\n",
       "\n",
       "    .dataframe tbody tr th {\n",
       "        vertical-align: top;\n",
       "    }\n",
       "\n",
       "    .dataframe thead th {\n",
       "        text-align: right;\n",
       "    }\n",
       "</style>\n",
       "<table border=\"1\" class=\"dataframe\">\n",
       "  <thead>\n",
       "    <tr style=\"text-align: right;\">\n",
       "      <th></th>\n",
       "      <th>xgb</th>\n",
       "      <th>catb</th>\n",
       "      <th>lgbm</th>\n",
       "    </tr>\n",
       "  </thead>\n",
       "  <tbody>\n",
       "    <tr>\n",
       "      <th>xgb</th>\n",
       "      <td>1.000000</td>\n",
       "      <td>0.992072</td>\n",
       "      <td>0.995236</td>\n",
       "    </tr>\n",
       "    <tr>\n",
       "      <th>catb</th>\n",
       "      <td>0.992072</td>\n",
       "      <td>1.000000</td>\n",
       "      <td>0.992014</td>\n",
       "    </tr>\n",
       "    <tr>\n",
       "      <th>lgbm</th>\n",
       "      <td>0.995236</td>\n",
       "      <td>0.992014</td>\n",
       "      <td>1.000000</td>\n",
       "    </tr>\n",
       "  </tbody>\n",
       "</table>\n",
       "</div>"
      ],
      "text/plain": [
       "           xgb      catb      lgbm\n",
       "xgb   1.000000  0.992072  0.995236\n",
       "catb  0.992072  1.000000  0.992014\n",
       "lgbm  0.995236  0.992014  1.000000"
      ]
     },
     "execution_count": 12,
     "metadata": {},
     "output_type": "execute_result"
    }
   ],
   "source": [
    "model_pred_df.drop(['kfold'], axis=1).corr()"
   ]
  },
  {
   "cell_type": "markdown",
   "id": "b6bf46f4",
   "metadata": {},
   "source": [
    "## Average Predictions"
   ]
  },
  {
   "cell_type": "code",
   "execution_count": 13,
   "id": "a43181e3",
   "metadata": {},
   "outputs": [],
   "source": [
    "def avg_preds(models):\n",
    "    folds_r2 = []\n",
    "    folds_rmse = []\n",
    "    for fold in range(5):\n",
    "        pred_data = get_preds(models, fold)\n",
    "        \n",
    "        y_true = pred_data['y_valid']\n",
    "        avg_preds = np.mean(pred_data['valid_preds'], axis=1)\n",
    "\n",
    "        fold_r2 = r2_score(y_true, avg_preds)\n",
    "        fold_rmse = np.sqrt(mean_squared_error(y_true, avg_preds))\n",
    "        print(f\"Fold={fold}, R2 score={fold_r2} and RMSE={fold_rmse}\")\n",
    "\n",
    "        folds_r2.append(fold_r2)\n",
    "        folds_rmse.append(fold_rmse)\n",
    "    \n",
    "    return {'R2 Score': np.mean(folds_r2), 'RMSE': np.mean(folds_rmse)}"
   ]
  },
  {
   "cell_type": "code",
   "execution_count": 14,
   "id": "dc6dfae0",
   "metadata": {},
   "outputs": [
    {
     "name": "stdout",
     "output_type": "stream",
     "text": [
      "Fold=0, R2 score=0.8281496228719227 and RMSE=3.890485405654631\n",
      "Fold=1, R2 score=0.8341659623820337 and RMSE=3.8183004404859275\n",
      "Fold=2, R2 score=0.8310404410758493 and RMSE=3.855217465710823\n",
      "Fold=3, R2 score=0.8355913031175984 and RMSE=3.806598192546705\n",
      "Fold=4, R2 score=0.8303631738609306 and RMSE=3.867548646721786\n"
     ]
    },
    {
     "data": {
      "text/plain": [
       "{'R2 Score': 0.831862100661667, 'RMSE': 3.847630030223974}"
      ]
     },
     "execution_count": 14,
     "metadata": {},
     "output_type": "execute_result"
    }
   ],
   "source": [
    "#CatBoost\n",
    "avg_preds(['catb'])"
   ]
  },
  {
   "cell_type": "code",
   "execution_count": 15,
   "id": "902c3529",
   "metadata": {},
   "outputs": [
    {
     "name": "stdout",
     "output_type": "stream",
     "text": [
      "Fold=0, R2 score=0.8286804472891279 and RMSE=3.8844721460111944\n",
      "Fold=1, R2 score=0.8327502553332626 and RMSE=3.8345640108756918\n",
      "Fold=2, R2 score=0.8316599382141886 and RMSE=3.848143319027598\n",
      "Fold=3, R2 score=0.8348982033758885 and RMSE=3.8146135149913736\n",
      "Fold=4, R2 score=0.8310202046590399 and RMSE=3.860051560358724\n"
     ]
    },
    {
     "data": {
      "text/plain": [
       "{'R2 Score': 0.8318018097743016, 'RMSE': 3.8483689102529164}"
      ]
     },
     "execution_count": 15,
     "metadata": {},
     "output_type": "execute_result"
    }
   ],
   "source": [
    "#XGBoost\n",
    "avg_preds(['xgb'])"
   ]
  },
  {
   "cell_type": "code",
   "execution_count": 16,
   "id": "daaf6dc3",
   "metadata": {},
   "outputs": [
    {
     "name": "stdout",
     "output_type": "stream",
     "text": [
      "Fold=0, R2 score=0.8233879831897322 and RMSE=3.9440160235195134\n",
      "Fold=1, R2 score=0.8317054572412466 and RMSE=3.846522497849808\n",
      "Fold=2, R2 score=0.8286705288966598 and RMSE=3.8821609285138092\n",
      "Fold=3, R2 score=0.8318201725030054 and RMSE=3.850007671197753\n",
      "Fold=4, R2 score=0.8261666384390831 and RMSE=3.9150947787492467\n"
     ]
    },
    {
     "data": {
      "text/plain": [
       "{'R2 Score': 0.8283501560539452, 'RMSE': 3.8875603799660263}"
      ]
     },
     "execution_count": 16,
     "metadata": {},
     "output_type": "execute_result"
    }
   ],
   "source": [
    "#Catboost\n",
    "avg_preds(['lgbm'])"
   ]
  },
  {
   "cell_type": "code",
   "execution_count": 17,
   "id": "abe833f7",
   "metadata": {},
   "outputs": [
    {
     "name": "stdout",
     "output_type": "stream",
     "text": [
      "Fold=0, R2 score=0.8278505346092476 and RMSE=3.8938694327920014\n",
      "Fold=1, R2 score=0.8340642164810528 and RMSE=3.8194716018856405\n",
      "Fold=2, R2 score=0.8320845321289947 and RMSE=3.8432872859742133\n",
      "Fold=3, R2 score=0.8354477651894687 and RMSE=3.8082595158912005\n",
      "Fold=4, R2 score=0.8306376968582678 and RMSE=3.8644179557971072\n"
     ]
    },
    {
     "data": {
      "text/plain": [
       "{'R2 Score': 0.8320169490534063, 'RMSE': 3.8458611584680327}"
      ]
     },
     "execution_count": 17,
     "metadata": {},
     "output_type": "execute_result"
    }
   ],
   "source": [
    "avg_preds(['xgb', 'lgbm'])"
   ]
  },
  {
   "cell_type": "code",
   "execution_count": 18,
   "id": "e8540f0c",
   "metadata": {},
   "outputs": [
    {
     "name": "stdout",
     "output_type": "stream",
     "text": [
      "Fold=0, R2 score=0.8289030561129096 and RMSE=3.881947627229874\n",
      "Fold=1, R2 score=0.8358390180995241 and RMSE=3.7989907030026457\n",
      "Fold=2, R2 score=0.8331257563619119 and RMSE=3.8313528681049243\n",
      "Fold=3, R2 score=0.8369513953685784 and RMSE=3.7908202049917348\n",
      "Fold=4, R2 score=0.8318865393086836 and RMSE=3.8501438858787846\n"
     ]
    },
    {
     "data": {
      "text/plain": [
       "{'R2 Score': 0.8333411530503214, 'RMSE': 3.8306510578415924}"
      ]
     },
     "execution_count": 18,
     "metadata": {},
     "output_type": "execute_result"
    }
   ],
   "source": [
    "avg_preds(['catb', 'lgbm'])"
   ]
  },
  {
   "cell_type": "code",
   "execution_count": 19,
   "id": "f6c5b488",
   "metadata": {},
   "outputs": [
    {
     "name": "stdout",
     "output_type": "stream",
     "text": [
      "Fold=0, R2 score=0.8315864516104199 and RMSE=3.851386101925955\n",
      "Fold=1, R2 score=0.8364369828922829 and RMSE=3.7920653815887357\n",
      "Fold=2, R2 score=0.8346429290239175 and RMSE=3.8138963204742415\n",
      "Fold=3, R2 score=0.8382348892564195 and RMSE=3.775870345236101\n",
      "Fold=4, R2 score=0.8343544011470438 and RMSE=3.8217798518984876\n"
     ]
    },
    {
     "data": {
      "text/plain": [
       "{'R2 Score': 0.8350511307860167, 'RMSE': 3.8109996002247035}"
      ]
     },
     "execution_count": 19,
     "metadata": {},
     "output_type": "execute_result"
    }
   ],
   "source": [
    "avg_preds(['xgb', 'catb'])"
   ]
  },
  {
   "cell_type": "code",
   "execution_count": 20,
   "id": "0bb83e7a",
   "metadata": {
    "scrolled": true
   },
   "outputs": [
    {
     "name": "stdout",
     "output_type": "stream",
     "text": [
      "Fold=0, R2 score=0.8303491239977251 and RMSE=3.8655082006934762\n",
      "Fold=1, R2 score=0.8363043549927662 and RMSE=3.7936025009311205\n",
      "Fold=2, R2 score=0.8342268846525109 and RMSE=3.818691256854566\n",
      "Fold=3, R2 score=0.8378029466957082 and RMSE=3.7809081182434814\n",
      "Fold=4, R2 score=0.8333293924774364 and RMSE=3.833586130095705\n"
     ]
    },
    {
     "data": {
      "text/plain": [
       "{'R2 Score': 0.8344025405632294, 'RMSE': 3.8184592413636693}"
      ]
     },
     "execution_count": 20,
     "metadata": {},
     "output_type": "execute_result"
    }
   ],
   "source": [
    "avg_preds(['xgb', 'catb', 'lgbm'])"
   ]
  },
  {
   "cell_type": "code",
   "execution_count": 23,
   "id": "ddca170b",
   "metadata": {},
   "outputs": [],
   "source": [
    "selected_models = ['xgb', 'catb']"
   ]
  },
  {
   "cell_type": "markdown",
   "id": "eb4843cd",
   "metadata": {},
   "source": [
    "## Stacking"
   ]
  },
  {
   "cell_type": "code",
   "execution_count": 21,
   "id": "5bd0c9bb",
   "metadata": {},
   "outputs": [],
   "source": [
    "model_dispatch = {\n",
    "    'scaled_lr':Pipeline([\n",
    "        ('scaler', StandardScaler()),\n",
    "        ('lr', LinearRegression())\n",
    "    ]),\n",
    "    'lr': LinearRegression(),\n",
    "    'rf': RandomForestRegressor(),\n",
    "    'lgbm': LGBMRegressor(),\n",
    "    'xgb': XGBRegressor(),\n",
    "    'catb': CatBoostRegressor(silent=True)\n",
    "}"
   ]
  },
  {
   "cell_type": "code",
   "execution_count": 22,
   "id": "aee234c4",
   "metadata": {},
   "outputs": [],
   "source": [
    "def fit_stacker(model_names, final_model):\n",
    "    folds_r2 = []\n",
    "    folds_rmse = []\n",
    "    for fold in range(5):\n",
    "        pred_data = get_preds(model_names, fold)\n",
    "        \n",
    "        stacker = model_dispatch[final_model]\n",
    "        \n",
    "        stacker.fit(pred_data['train_preds'], pred_data['y_train'])\n",
    "        \n",
    "        preds = stacker.predict(pred_data['valid_preds'])\n",
    "\n",
    "        fold_r2 = r2_score(pred_data['y_valid'], preds)\n",
    "        fold_rmse = np.sqrt(mean_squared_error(pred_data['y_valid'], preds))\n",
    "        print(f\"Fold={fold}, R2 score={fold_r2} and RMSE={fold_rmse}\")\n",
    "\n",
    "        folds_r2.append(fold_r2)\n",
    "        folds_rmse.append(fold_rmse)\n",
    "    \n",
    "    return {'R2 Score': np.mean(folds_r2), 'RMSE': np.mean(folds_rmse)}    "
   ]
  },
  {
   "cell_type": "markdown",
   "id": "1d54812a",
   "metadata": {},
   "source": [
    "### Stacking with LR"
   ]
  },
  {
   "cell_type": "code",
   "execution_count": 24,
   "id": "912221f0",
   "metadata": {
    "scrolled": true
   },
   "outputs": [
    {
     "name": "stdout",
     "output_type": "stream",
     "text": [
      "Fold=0, R2 score=0.8291965399607814 and RMSE=3.87861683160572\n",
      "Fold=1, R2 score=0.8349331035547413 and RMSE=3.8094585557377134\n",
      "Fold=2, R2 score=0.8328373021100168 and RMSE=3.8346628242188663\n",
      "Fold=3, R2 score=0.8370580357612276 and RMSE=3.7895803272345\n",
      "Fold=4, R2 score=0.8307474042291664 and RMSE=3.863166131145348\n"
     ]
    },
    {
     "data": {
      "text/plain": [
       "{'R2 Score': 0.8329544771231866, 'RMSE': 3.8350969339884293}"
      ]
     },
     "execution_count": 24,
     "metadata": {},
     "output_type": "execute_result"
    }
   ],
   "source": [
    "fit_stacker(selected_models, 'scaled_lr')"
   ]
  },
  {
   "cell_type": "code",
   "execution_count": 25,
   "id": "494429cb",
   "metadata": {},
   "outputs": [
    {
     "name": "stdout",
     "output_type": "stream",
     "text": [
      "Fold=0, R2 score=0.8291965399607814 and RMSE=3.8786168316057195\n",
      "Fold=1, R2 score=0.8349331035547413 and RMSE=3.809458555737713\n",
      "Fold=2, R2 score=0.8328373021100168 and RMSE=3.8346628242188654\n",
      "Fold=3, R2 score=0.8370580357612275 and RMSE=3.7895803272345003\n",
      "Fold=4, R2 score=0.8307474042291665 and RMSE=3.863166131145347\n"
     ]
    },
    {
     "data": {
      "text/plain": [
       "{'R2 Score': 0.8329544771231866, 'RMSE': 3.8350969339884293}"
      ]
     },
     "execution_count": 25,
     "metadata": {},
     "output_type": "execute_result"
    }
   ],
   "source": [
    "fit_stacker(selected_models, 'lr')"
   ]
  },
  {
   "cell_type": "markdown",
   "id": "428cfde5",
   "metadata": {},
   "source": [
    "### Stacking with RandomForest"
   ]
  },
  {
   "cell_type": "code",
   "execution_count": 29,
   "id": "9f1b7006",
   "metadata": {},
   "outputs": [
    {
     "name": "stdout",
     "output_type": "stream",
     "text": [
      "Fold=0, R2 score=0.7979615888413981 and RMSE=4.218378239175165\n",
      "Fold=1, R2 score=0.8048598325004402 and RMSE=4.141966641961395\n",
      "Fold=2, R2 score=0.7981214183671536 and RMSE=4.214078483184794\n",
      "Fold=3, R2 score=0.8016508010954811 and RMSE=4.1810933969307955\n",
      "Fold=4, R2 score=0.7997809095859805 and RMSE=4.201733060901073\n"
     ]
    },
    {
     "data": {
      "text/plain": [
       "{'R2 Score': 0.8004749100780906, 'RMSE': 4.191449964430644}"
      ]
     },
     "execution_count": 29,
     "metadata": {},
     "output_type": "execute_result"
    }
   ],
   "source": [
    "fit_stacker(selected_models, 'rf')"
   ]
  },
  {
   "cell_type": "markdown",
   "id": "da77afb6",
   "metadata": {},
   "source": [
    "### Stacking with LGBM"
   ]
  },
  {
   "cell_type": "code",
   "execution_count": 30,
   "id": "4a8f82a7",
   "metadata": {},
   "outputs": [
    {
     "name": "stdout",
     "output_type": "stream",
     "text": [
      "Fold=0, R2 score=0.8204300707881773 and RMSE=3.9769062337087915\n",
      "Fold=1, R2 score=0.8268882308525504 and RMSE=3.901185106663131\n",
      "Fold=2, R2 score=0.8199923257554308 and RMSE=3.97926633398604\n",
      "Fold=3, R2 score=0.823304355936272 and RMSE=3.9462769896473207\n",
      "Fold=4, R2 score=0.8212869167036774 and RMSE=3.9696652880053036\n"
     ]
    },
    {
     "data": {
      "text/plain": [
       "{'R2 Score': 0.8223803800072215, 'RMSE': 3.954659990402117}"
      ]
     },
     "execution_count": 30,
     "metadata": {},
     "output_type": "execute_result"
    }
   ],
   "source": [
    "fit_stacker(selected_models, 'lgbm')"
   ]
  },
  {
   "cell_type": "markdown",
   "id": "ea8d1d98",
   "metadata": {},
   "source": [
    "### Stacking with XGB"
   ]
  },
  {
   "cell_type": "code",
   "execution_count": 31,
   "id": "1c364181",
   "metadata": {},
   "outputs": [
    {
     "name": "stdout",
     "output_type": "stream",
     "text": [
      "Fold=0, R2 score=0.8176869701050521 and RMSE=4.007166611726781\n",
      "Fold=1, R2 score=0.8235284962757825 and RMSE=3.93886007740206\n",
      "Fold=2, R2 score=0.8167950973528034 and RMSE=4.014449906010593\n",
      "Fold=3, R2 score=0.8201966118932835 and RMSE=3.980829518340261\n",
      "Fold=4, R2 score=0.8170562833106725 and RMSE=4.016376939545849\n"
     ]
    },
    {
     "data": {
      "text/plain": [
       "{'R2 Score': 0.8190526917875189, 'RMSE': 3.9915366106051087}"
      ]
     },
     "execution_count": 31,
     "metadata": {},
     "output_type": "execute_result"
    }
   ],
   "source": [
    "fit_stacker(selected_models, 'xgb')"
   ]
  },
  {
   "cell_type": "markdown",
   "id": "f7f2bb22",
   "metadata": {},
   "source": [
    "### Stacking with CatBoost"
   ]
  },
  {
   "cell_type": "code",
   "execution_count": 32,
   "id": "1241e0f1",
   "metadata": {},
   "outputs": [
    {
     "name": "stdout",
     "output_type": "stream",
     "text": [
      "Fold=0, R2 score=0.8181876005805403 and RMSE=4.001661001917198\n",
      "Fold=1, R2 score=0.8251241945839034 and RMSE=3.9210115721732177\n",
      "Fold=2, R2 score=0.8186827402713865 and RMSE=3.993715011537825\n",
      "Fold=3, R2 score=0.8213855668085042 and RMSE=3.967646015050856\n",
      "Fold=4, R2 score=0.8194375784984345 and RMSE=3.9901516430019686\n"
     ]
    },
    {
     "data": {
      "text/plain": [
       "{'R2 Score': 0.8205635361485539, 'RMSE': 3.9748370487362132}"
      ]
     },
     "execution_count": 32,
     "metadata": {},
     "output_type": "execute_result"
    }
   ],
   "source": [
    "fit_stacker(selected_models, 'catb')"
   ]
  },
  {
   "cell_type": "code",
   "execution_count": null,
   "id": "ba42610c",
   "metadata": {},
   "outputs": [],
   "source": []
  }
 ],
 "metadata": {
  "kernelspec": {
   "display_name": "Python 3 (ipykernel)",
   "language": "python",
   "name": "python3"
  },
  "language_info": {
   "codemirror_mode": {
    "name": "ipython",
    "version": 3
   },
   "file_extension": ".py",
   "mimetype": "text/x-python",
   "name": "python",
   "nbconvert_exporter": "python",
   "pygments_lexer": "ipython3",
   "version": "3.9.12"
  }
 },
 "nbformat": 4,
 "nbformat_minor": 5
}
