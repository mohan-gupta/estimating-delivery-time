{
 "cells": [
  {
   "cell_type": "markdown",
   "id": "11bd29c7",
   "metadata": {},
   "source": [
    "# Filling NULL Values of Categorical Columns with New Category as \"NONE\", fixed time and ratings"
   ]
  },
  {
   "cell_type": "code",
   "execution_count": 1,
   "id": "da0c2f75",
   "metadata": {},
   "outputs": [],
   "source": [
    "import numpy as np\n",
    "import pandas as pd\n",
    "\n",
    "from warnings import filterwarnings\n",
    "filterwarnings(\"ignore\")"
   ]
  },
  {
   "cell_type": "code",
   "execution_count": 2,
   "id": "4f1e9dc0",
   "metadata": {},
   "outputs": [],
   "source": [
    "#reading data\n",
    "df = pd.read_csv('../dataset/data.csv')"
   ]
  },
  {
   "cell_type": "code",
   "execution_count": 3,
   "id": "0f7b2632",
   "metadata": {},
   "outputs": [
    {
     "data": {
      "text/plain": [
       "(45593, 21)"
      ]
     },
     "execution_count": 3,
     "metadata": {},
     "output_type": "execute_result"
    }
   ],
   "source": [
    "df.shape"
   ]
  },
  {
   "cell_type": "code",
   "execution_count": 4,
   "id": "97cd6a09",
   "metadata": {},
   "outputs": [
    {
     "name": "stdout",
     "output_type": "stream",
     "text": [
      "<class 'pandas.core.frame.DataFrame'>\n",
      "RangeIndex: 45593 entries, 0 to 45592\n",
      "Data columns (total 21 columns):\n",
      " #   Column                       Non-Null Count  Dtype  \n",
      "---  ------                       --------------  -----  \n",
      " 0   ID                           45593 non-null  object \n",
      " 1   Delivery_person_ID           45593 non-null  object \n",
      " 2   Delivery_person_Age          43739 non-null  float64\n",
      " 3   Delivery_person_Ratings      43685 non-null  float64\n",
      " 4   Restaurant_latitude          45593 non-null  float64\n",
      " 5   Restaurant_longitude         45593 non-null  float64\n",
      " 6   Delivery_location_latitude   45593 non-null  float64\n",
      " 7   Delivery_location_longitude  45593 non-null  float64\n",
      " 8   Order_Date                   45593 non-null  object \n",
      " 9   Time_Orderd                  43862 non-null  object \n",
      " 10  Time_Order_picked            45593 non-null  object \n",
      " 11  Weather                      44977 non-null  object \n",
      " 12  Road_traffic_density         44992 non-null  object \n",
      " 13  Vehicle_condition            45593 non-null  int64  \n",
      " 14  Type_of_order                45593 non-null  object \n",
      " 15  Type_of_vehicle              45593 non-null  object \n",
      " 16  multiple_deliveries          44600 non-null  float64\n",
      " 17  Festival                     45365 non-null  object \n",
      " 18  City                         44393 non-null  object \n",
      " 19  Time_taken                   45593 non-null  float64\n",
      " 20  kfold                        45593 non-null  int64  \n",
      "dtypes: float64(8), int64(2), object(11)\n",
      "memory usage: 7.3+ MB\n"
     ]
    }
   ],
   "source": [
    "df.info()"
   ]
  },
  {
   "cell_type": "markdown",
   "id": "c9baa424",
   "metadata": {},
   "source": [
    "### Fixing Type"
   ]
  },
  {
   "cell_type": "code",
   "execution_count": 5,
   "id": "6e140fe4",
   "metadata": {},
   "outputs": [],
   "source": [
    "#Changing type of Vehicle condition to int\n",
    "df['Vehicle_condition'] = df['Vehicle_condition'].astype(np.int8)"
   ]
  },
  {
   "cell_type": "markdown",
   "id": "83182d43",
   "metadata": {},
   "source": [
    "### Correcting Time"
   ]
  },
  {
   "cell_type": "code",
   "execution_count": 6,
   "id": "3c5d269a",
   "metadata": {},
   "outputs": [],
   "source": [
    "def fix_time(x):\n",
    "    \"\"\"Function to fix time\n",
    "    x is a string of time-> hh:mm or h:mm\"\"\"\n",
    "    if type(x)==float:\n",
    "        return np.nan\n",
    "    \n",
    "    if x=='24:00' or x=='23:60':\n",
    "        return \"0:0\"\n",
    "    \n",
    "    if x[:2]==\"24\":\n",
    "        return \"00:\"+x[3:]\n",
    "    \n",
    "    if x[-2]=='6':\n",
    "        if x[1]==':':\n",
    "            return str(int(x[0])+1)+\":0\"+x[-1]\n",
    "        return str((int(x[:2])+1)%24)+\":0\"+x[-1]\n",
    "    return x"
   ]
  },
  {
   "cell_type": "code",
   "execution_count": 7,
   "id": "e735f8c5",
   "metadata": {},
   "outputs": [],
   "source": [
    "#correcting time\n",
    "df['Time_Orderd'] = df['Time_Orderd'].apply(fix_time)\n",
    "df['Time_Order_picked'] = df['Time_Order_picked'].apply(fix_time)"
   ]
  },
  {
   "cell_type": "markdown",
   "id": "58c858eb",
   "metadata": {},
   "source": [
    "### Fixing Ratings"
   ]
  },
  {
   "cell_type": "code",
   "execution_count": 8,
   "id": "ece90936",
   "metadata": {},
   "outputs": [],
   "source": [
    "def ratings(x):\n",
    "    \"\"\"Function to fix ratings between 1 to 5\"\"\"\n",
    "    if x<1:\n",
    "        return 1\n",
    "    elif x>5:\n",
    "        return 5\n",
    "    return x"
   ]
  },
  {
   "cell_type": "code",
   "execution_count": 9,
   "id": "253683cf",
   "metadata": {},
   "outputs": [],
   "source": [
    "#fixing ratings\n",
    "df['Delivery_person_Ratings'] = df['Delivery_person_Ratings'].apply(ratings)"
   ]
  },
  {
   "cell_type": "code",
   "execution_count": 10,
   "id": "37d6d434",
   "metadata": {},
   "outputs": [],
   "source": [
    "def check_null(df):\n",
    "    '''Returns % null values in each column'''\n",
    "    return round(100*df.isnull().sum()/len(df), 2).sort_values(ascending=False)"
   ]
  },
  {
   "cell_type": "code",
   "execution_count": 11,
   "id": "3552f941",
   "metadata": {},
   "outputs": [
    {
     "data": {
      "text/plain": [
       "Delivery_person_Ratings        4.18\n",
       "Delivery_person_Age            4.07\n",
       "Time_Orderd                    3.80\n",
       "City                           2.63\n",
       "multiple_deliveries            2.18\n",
       "Weather                        1.35\n",
       "Road_traffic_density           1.32\n",
       "Festival                       0.50\n",
       "ID                             0.00\n",
       "Vehicle_condition              0.00\n",
       "Time_taken                     0.00\n",
       "Type_of_vehicle                0.00\n",
       "Type_of_order                  0.00\n",
       "Time_Order_picked              0.00\n",
       "Delivery_person_ID             0.00\n",
       "Order_Date                     0.00\n",
       "Delivery_location_longitude    0.00\n",
       "Delivery_location_latitude     0.00\n",
       "Restaurant_longitude           0.00\n",
       "Restaurant_latitude            0.00\n",
       "kfold                          0.00\n",
       "dtype: float64"
      ]
     },
     "execution_count": 11,
     "metadata": {},
     "output_type": "execute_result"
    }
   ],
   "source": [
    "check_null(df)"
   ]
  },
  {
   "cell_type": "code",
   "execution_count": 12,
   "id": "93b593f1",
   "metadata": {},
   "outputs": [
    {
     "data": {
      "text/plain": [
       "1.0    28159\n",
       "0.0    14095\n",
       "2.0     1985\n",
       "3.0      361\n",
       "Name: multiple_deliveries, dtype: int64"
      ]
     },
     "execution_count": 12,
     "metadata": {},
     "output_type": "execute_result"
    }
   ],
   "source": [
    "#Multiple deliveries -> Number of orders delivered in one attempt\n",
    "#since 0 orders is not a possible case, may be it indicates 1 order in one attempt.\n",
    "#Also, There might be a possibility that 2 order in one attempt are more likely then any other case.\n",
    "df['multiple_deliveries'].value_counts()"
   ]
  },
  {
   "cell_type": "code",
   "execution_count": 13,
   "id": "0a2451ef",
   "metadata": {},
   "outputs": [],
   "source": [
    "df['multiple_deliveries'] = df['multiple_deliveries'].apply(lambda x: x+1)"
   ]
  },
  {
   "cell_type": "code",
   "execution_count": 14,
   "id": "c1cc84ac",
   "metadata": {},
   "outputs": [
    {
     "data": {
      "text/plain": [
       "2.0    28159\n",
       "1.0    14095\n",
       "3.0     1985\n",
       "4.0      361\n",
       "Name: multiple_deliveries, dtype: int64"
      ]
     },
     "execution_count": 14,
     "metadata": {},
     "output_type": "execute_result"
    }
   ],
   "source": [
    "df['multiple_deliveries'].value_counts()"
   ]
  },
  {
   "cell_type": "code",
   "execution_count": 15,
   "id": "f015b451",
   "metadata": {},
   "outputs": [
    {
     "data": {
      "text/plain": [
       "Delivery_person_Ratings        4.18\n",
       "Delivery_person_Age            4.07\n",
       "Time_Orderd                    3.80\n",
       "City                           2.63\n",
       "multiple_deliveries            2.18\n",
       "Weather                        1.35\n",
       "Road_traffic_density           1.32\n",
       "Festival                       0.50\n",
       "ID                             0.00\n",
       "Vehicle_condition              0.00\n",
       "Time_taken                     0.00\n",
       "Type_of_vehicle                0.00\n",
       "Type_of_order                  0.00\n",
       "Time_Order_picked              0.00\n",
       "Delivery_person_ID             0.00\n",
       "Order_Date                     0.00\n",
       "Delivery_location_longitude    0.00\n",
       "Delivery_location_latitude     0.00\n",
       "Restaurant_longitude           0.00\n",
       "Restaurant_latitude            0.00\n",
       "kfold                          0.00\n",
       "dtype: float64"
      ]
     },
     "execution_count": 15,
     "metadata": {},
     "output_type": "execute_result"
    }
   ],
   "source": [
    "check_null(df)"
   ]
  },
  {
   "cell_type": "code",
   "execution_count": 16,
   "id": "239d3c32",
   "metadata": {},
   "outputs": [],
   "source": [
    "cat_cols = ['City', 'Weather', 'Road_traffic_density', 'Time_Orderd', \"Festival\"]"
   ]
  },
  {
   "cell_type": "code",
   "execution_count": 17,
   "id": "1f909c18",
   "metadata": {},
   "outputs": [],
   "source": [
    "#imputing Nan as \"NONE\" for categorical variables\n",
    "df[cat_cols] = df[cat_cols].fillna(\"NONE\")"
   ]
  },
  {
   "cell_type": "code",
   "execution_count": 18,
   "id": "b889c158",
   "metadata": {},
   "outputs": [
    {
     "data": {
      "text/plain": [
       "Delivery_person_Ratings        4.18\n",
       "Delivery_person_Age            4.07\n",
       "multiple_deliveries            2.18\n",
       "ID                             0.00\n",
       "Road_traffic_density           0.00\n",
       "Time_taken                     0.00\n",
       "City                           0.00\n",
       "Festival                       0.00\n",
       "Type_of_vehicle                0.00\n",
       "Type_of_order                  0.00\n",
       "Vehicle_condition              0.00\n",
       "Time_Order_picked              0.00\n",
       "Weather                        0.00\n",
       "Delivery_person_ID             0.00\n",
       "Time_Orderd                    0.00\n",
       "Order_Date                     0.00\n",
       "Delivery_location_longitude    0.00\n",
       "Delivery_location_latitude     0.00\n",
       "Restaurant_longitude           0.00\n",
       "Restaurant_latitude            0.00\n",
       "kfold                          0.00\n",
       "dtype: float64"
      ]
     },
     "execution_count": 18,
     "metadata": {},
     "output_type": "execute_result"
    }
   ],
   "source": [
    "check_null(df)"
   ]
  },
  {
   "cell_type": "code",
   "execution_count": 19,
   "id": "d9f4735e",
   "metadata": {},
   "outputs": [
    {
     "name": "stdout",
     "output_type": "stream",
     "text": [
      "<class 'pandas.core.frame.DataFrame'>\n",
      "RangeIndex: 45593 entries, 0 to 45592\n",
      "Data columns (total 21 columns):\n",
      " #   Column                       Non-Null Count  Dtype  \n",
      "---  ------                       --------------  -----  \n",
      " 0   ID                           45593 non-null  object \n",
      " 1   Delivery_person_ID           45593 non-null  object \n",
      " 2   Delivery_person_Age          43739 non-null  float64\n",
      " 3   Delivery_person_Ratings      43685 non-null  float64\n",
      " 4   Restaurant_latitude          45593 non-null  float64\n",
      " 5   Restaurant_longitude         45593 non-null  float64\n",
      " 6   Delivery_location_latitude   45593 non-null  float64\n",
      " 7   Delivery_location_longitude  45593 non-null  float64\n",
      " 8   Order_Date                   45593 non-null  object \n",
      " 9   Time_Orderd                  45593 non-null  object \n",
      " 10  Time_Order_picked            45593 non-null  object \n",
      " 11  Weather                      45593 non-null  object \n",
      " 12  Road_traffic_density         45593 non-null  object \n",
      " 13  Vehicle_condition            45593 non-null  int8   \n",
      " 14  Type_of_order                45593 non-null  object \n",
      " 15  Type_of_vehicle              45593 non-null  object \n",
      " 16  multiple_deliveries          44600 non-null  float64\n",
      " 17  Festival                     45593 non-null  object \n",
      " 18  City                         45593 non-null  object \n",
      " 19  Time_taken                   45593 non-null  float64\n",
      " 20  kfold                        45593 non-null  int64  \n",
      "dtypes: float64(8), int64(1), int8(1), object(11)\n",
      "memory usage: 7.0+ MB\n"
     ]
    }
   ],
   "source": [
    "df.info()"
   ]
  },
  {
   "cell_type": "code",
   "execution_count": 20,
   "id": "530491df",
   "metadata": {},
   "outputs": [
    {
     "data": {
      "text/plain": [
       "45593"
      ]
     },
     "execution_count": 20,
     "metadata": {},
     "output_type": "execute_result"
    }
   ],
   "source": [
    "df['ID'].nunique()"
   ]
  },
  {
   "cell_type": "code",
   "execution_count": 21,
   "id": "779402dd",
   "metadata": {},
   "outputs": [],
   "source": [
    "#Dropping ID as it contains only unique values\n",
    "df = df.drop(['ID'], axis=1)"
   ]
  },
  {
   "cell_type": "code",
   "execution_count": 22,
   "id": "d7887fd8",
   "metadata": {},
   "outputs": [],
   "source": [
    "df.to_csv(\"../dataset/cat_data.csv\", index=False)"
   ]
  }
 ],
 "metadata": {
  "kernelspec": {
   "display_name": "Python 3 (ipykernel)",
   "language": "python",
   "name": "python3"
  },
  "language_info": {
   "codemirror_mode": {
    "name": "ipython",
    "version": 3
   },
   "file_extension": ".py",
   "mimetype": "text/x-python",
   "name": "python",
   "nbconvert_exporter": "python",
   "pygments_lexer": "ipython3",
   "version": "3.9.12"
  }
 },
 "nbformat": 4,
 "nbformat_minor": 5
}
